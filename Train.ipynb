{
 "cells": [
  {
   "cell_type": "code",
   "execution_count": 10,
   "metadata": {},
   "outputs": [],
   "source": [
    "import pandas as pd\n",
    "from torch.utils.data import Dataset, DataLoader\n",
    "import h5py\n",
    "import matplotlib.pyplot as plt\n",
    "import matplotlib.image as mpimg\n",
    "from tqdm import tqdm\n",
    "import torch\n",
    "import numpy as np\n",
    "import torch.optim as optim\n",
    "import torch.nn.functional as F\n",
    "from PIL import Image\n"
   ]
  },
  {
   "cell_type": "markdown",
   "metadata": {},
   "source": [
    "### Exploring Dataset"
   ]
  },
  {
   "cell_type": "code",
   "execution_count": 2,
   "metadata": {},
   "outputs": [],
   "source": [
    "train = h5py.File('Data/train_signs.h5', 'r')"
   ]
  },
  {
   "cell_type": "code",
   "execution_count": 3,
   "metadata": {},
   "outputs": [
    {
     "data": {
      "text/plain": [
       "(1080, 64, 64, 3)"
      ]
     },
     "execution_count": 3,
     "metadata": {},
     "output_type": "execute_result"
    }
   ],
   "source": [
    "train['train_set_x'].shape ## 1080 sample in train set "
   ]
  },
  {
   "cell_type": "code",
   "execution_count": 4,
   "metadata": {},
   "outputs": [
    {
     "data": {
      "text/plain": [
       "(1080,)"
      ]
     },
     "execution_count": 4,
     "metadata": {},
     "output_type": "execute_result"
    }
   ],
   "source": [
    "\n",
    "train['train_set_y'].shape"
   ]
  },
  {
   "cell_type": "code",
   "execution_count": 5,
   "metadata": {},
   "outputs": [],
   "source": [
    "\n",
    "test = h5py.File('Data/test_signs.h5', 'r')"
   ]
  },
  {
   "cell_type": "code",
   "execution_count": 6,
   "metadata": {},
   "outputs": [
    {
     "data": {
      "text/plain": [
       "(120, 64, 64, 3)"
      ]
     },
     "execution_count": 6,
     "metadata": {},
     "output_type": "execute_result"
    }
   ],
   "source": [
    "test['test_set_x'].shape ## 120 samples in test set"
   ]
  },
  {
   "cell_type": "code",
   "execution_count": 7,
   "metadata": {},
   "outputs": [
    {
     "data": {
      "text/plain": [
       "<HDF5 dataset \"train_set_x\": shape (1080, 64, 64, 3), type \"|u1\">"
      ]
     },
     "execution_count": 7,
     "metadata": {},
     "output_type": "execute_result"
    }
   ],
   "source": [
    "train['train_set_x']"
   ]
  },
  {
   "cell_type": "code",
   "execution_count": 8,
   "metadata": {},
   "outputs": [
    {
     "data": {
      "image/png": "[encoded data removed]",
      "text/plain": [
       "<Figure size 432x288 with 1 Axes>"
      ]
     },
     "metadata": {
      "needs_background": "light"
     },
     "output_type": "display_data"
    }
   ],
   "source": [
    "\n",
    "imgplot = plt.imshow(train['train_set_x'][1])"
   ]
  },
  {
   "cell_type": "code",
   "execution_count": 9,
   "metadata": {},
   "outputs": [
    {
     "data": {
      "text/plain": [
       "0"
      ]
     },
     "execution_count": 9,
     "metadata": {},
     "output_type": "execute_result"
    }
   ],
   "source": [
    "train['train_set_y'][1]"
   ]
  },
  {
   "cell_type": "code",
   "execution_count": 10,
   "metadata": {},
   "outputs": [
    {
     "name": "stdout",
     "output_type": "stream",
     "text": [
      "No of Classes are :6\n",
      "{0, 1, 2, 3, 4, 5}\n"
     ]
    }
   ],
   "source": [
    "### Classes in the Data\n",
    "print('No of Classes are :' + str(len(set(train['train_set_y']))))\n",
    "print(set(train['train_set_y']))"
   ]
  },
  {
   "cell_type": "markdown",
   "metadata": {},
   "source": [
    "### Dataloader in pytorch ####"
   ]
  },
  {
   "cell_type": "code",
   "execution_count": 11,
   "metadata": {},
   "outputs": [],
   "source": [
    "class Img_Dataset(Dataset):\n",
    "    \n",
    "    def __init__(self, img_x, img_y):\n",
    "        self.img_x = torch.Tensor(img_x)\n",
    "        self.img_y = torch.Tensor(img_y)\n",
    "        \n",
    "    def __getitem__(self, index):\n",
    "        return (self.img_x[index], self.img_y[index])\n",
    "\n",
    "\n",
    "    def __len__(self):\n",
    "        return len(self.img_x)"
   ]
  },
  {
   "cell_type": "code",
   "execution_count": 12,
   "metadata": {},
   "outputs": [],
   "source": [
    "train_data = h5py.File('Data/train_signs.h5', 'r')\n",
    "train_x, train_y = train_data['train_set_x'], train_data['train_set_y']\n",
    "train_dataset = Img_Dataset(train_x, train_y)\n",
    "train_dl = DataLoader(train_dataset, batch_size=16, drop_last = True, shuffle=True)"
   ]
  },
  {
   "cell_type": "code",
   "execution_count": 13,
   "metadata": {},
   "outputs": [],
   "source": [
    "test_data = h5py.File('Data/test_signs.h5', 'r')\n",
    "test_x, test_y = test_data['test_set_x'], test_data['test_set_y']\n",
    "test_dataset = Img_Dataset(test_x, test_y)\n",
    "test_dl = DataLoader(test_dataset, batch_size=16, drop_last=True, shuffle=False)"
   ]
  },
  {
   "cell_type": "code",
   "execution_count": 14,
   "metadata": {},
   "outputs": [
    {
     "data": {
      "text/plain": [
       "<torch._C.Generator at 0x7fb3d8cba870>"
      ]
     },
     "execution_count": 14,
     "metadata": {},
     "output_type": "execute_result"
    }
   ],
   "source": [
    "torch.manual_seed(100)"
   ]
  },
  {
   "cell_type": "code",
   "execution_count": 15,
   "metadata": {},
   "outputs": [],
   "source": [
    "### CONV2D -> RELU -> MAXPOOL -> CONV2D -> RELU -> MAXPOOL -> FLATTEN -> FULLYCONNECTED"
   ]
  },
  {
   "cell_type": "code",
   "execution_count": 16,
   "metadata": {},
   "outputs": [],
   "source": [
    "class Image_Classifier(torch.nn.Module):\n",
    "    def __init__(self):\n",
    "        super(Image_Classifier, self).__init__()\n",
    "        \n",
    "        self.Z1 = torch.nn.Conv2d(3, 12, 3, stride=1, padding=1)\n",
    "        self.A1 = torch.nn.ReLU(self.Z1)   \n",
    "        self.P1 = torch.nn.MaxPool2d(2, stride=2)\n",
    "        \n",
    "        self.Z2 = torch.nn.Conv2d(12, 18, 4, stride=1, padding=1)\n",
    "        self.A2 = torch.nn.ReLU(self.Z2)\n",
    "        self.P2 = torch.nn.MaxPool2d(2, stride=2)\n",
    "        self.linear1 = torch.nn.Linear(4050, 720, bias=True)\n",
    "        self.A3 = torch.nn.ReLU(self.linear1)\n",
    "        self.linear2 = torch.nn.Linear(720, 100, bias=True)\n",
    "        self.A4 = torch.nn.ReLU(self.linear2)\n",
    "        self.linear3 = torch.nn.Linear(100, 6, bias=True)\n",
    "        \n",
    "\n",
    "            \n",
    "    def forward(self, data):\n",
    "\n",
    "        layer1_1 = self.Z1(data)\n",
    "        \n",
    "        layer1_2 = self.A1(layer1_1)\n",
    "        \n",
    "        layer1_3 = self.P1(layer1_2)\n",
    "\n",
    "        \n",
    "        layer2_1 = self.Z2(layer1_3)\n",
    "\n",
    "        layer2_2 = self.A2(layer2_1)\n",
    "        layer2_3 = self.P2(layer2_2)\n",
    "        \n",
    "        flatten = layer2_3.view(layer2_3.size()[0], 4050 )\n",
    "\n",
    "        lin_out_1 = self.linear1(flatten)\n",
    "        layer3_1 = self.A3(lin_out_1)\n",
    "        layer3_2 = self.A4(self.linear2(layer3_1))\n",
    "        out = self.linear3(layer3_2)\n",
    "    \n",
    "        return F.log_softmax(out)\n",
    "        \n",
    "    "
   ]
  },
  {
   "cell_type": "code",
   "execution_count": 17,
   "metadata": {},
   "outputs": [],
   "source": [
    "model = Image_Classifier()\n",
    "optimizer = optim.Adam(model.parameters(), lr=0.001)\n",
    "criterion = torch.nn.NLLLoss()\n"
   ]
  },
  {
   "cell_type": "code",
   "execution_count": 18,
   "metadata": {},
   "outputs": [
    {
     "name": "stderr",
     "output_type": "stream",
     "text": [
      "  0%|          | 0/67 [00:00<?, ?it/s]/home/surbhi/anaconda3/envs/pytorch-env/lib/python3.5/site-packages/ipykernel_launcher.py:43: UserWarning: Implicit dimension choice for log_softmax has been deprecated. Change the call to include dim=X as an argument.\n",
      "  1%|▏         | 1/67 [00:00<00:12,  5.43it/s]"
     ]
    },
    {
     "name": "stdout",
     "output_type": "stream",
     "text": [
      "torch.Size([16, 18, 15, 15])\n",
      "torch.Size([16, 18, 15, 15])\n"
     ]
    },
    {
     "name": "stderr",
     "output_type": "stream",
     "text": [
      "  7%|▋         | 5/67 [00:00<00:07,  8.03it/s]"
     ]
    },
    {
     "name": "stdout",
     "output_type": "stream",
     "text": [
      "torch.Size([16, 18, 15, 15])\n",
      "torch.Size([16, 18, 15, 15])\n",
      "torch.Size([16, 18, 15, 15])\n",
      "torch.Size([16, 18, 15, 15])\n"
     ]
    },
    {
     "name": "stderr",
     "output_type": "stream",
     "text": [
      " 13%|█▎        | 9/67 [00:00<00:05, 10.97it/s]"
     ]
    },
    {
     "name": "stdout",
     "output_type": "stream",
     "text": [
      "torch.Size([16, 18, 15, 15])\n",
      "torch.Size([16, 18, 15, 15])\n",
      "torch.Size([16, 18, 15, 15])\n",
      "torch.Size([16, 18, 15, 15])\n"
     ]
    },
    {
     "name": "stderr",
     "output_type": "stream",
     "text": [
      " 19%|█▉        | 13/67 [00:00<00:04, 12.84it/s]"
     ]
    },
    {
     "name": "stdout",
     "output_type": "stream",
     "text": [
      "torch.Size([16, 18, 15, 15])\n",
      "torch.Size([16, 18, 15, 15])\n",
      "torch.Size([16, 18, 15, 15])\n",
      "torch.Size([16, 18, 15, 15])\n"
     ]
    },
    {
     "name": "stderr",
     "output_type": "stream",
     "text": [
      " 25%|██▌       | 17/67 [00:01<00:03, 14.67it/s]"
     ]
    },
    {
     "name": "stdout",
     "output_type": "stream",
     "text": [
      "torch.Size([16, 18, 15, 15])\n",
      "torch.Size([16, 18, 15, 15])\n",
      "torch.Size([16, 18, 15, 15])\n",
      "torch.Size([16, 18, 15, 15])\n"
     ]
    },
    {
     "name": "stderr",
     "output_type": "stream",
     "text": [
      " 31%|███▏      | 21/67 [00:01<00:02, 15.44it/s]"
     ]
    },
    {
     "name": "stdout",
     "output_type": "stream",
     "text": [
      "torch.Size([16, 18, 15, 15])\n",
      "torch.Size([16, 18, 15, 15])\n",
      "torch.Size([16, 18, 15, 15])\n",
      "torch.Size([16, 18, 15, 15])\n"
     ]
    },
    {
     "name": "stderr",
     "output_type": "stream",
     "text": [
      " 37%|███▋      | 25/67 [00:01<00:02, 15.73it/s]"
     ]
    },
    {
     "name": "stdout",
     "output_type": "stream",
     "text": [
      "torch.Size([16, 18, 15, 15])\n",
      "torch.Size([16, 18, 15, 15])\n",
      "torch.Size([16, 18, 15, 15])\n",
      "torch.Size([16, 18, 15, 15])\n"
     ]
    },
    {
     "name": "stderr",
     "output_type": "stream",
     "text": [
      " 43%|████▎     | 29/67 [00:01<00:02, 14.79it/s]"
     ]
    },
    {
     "name": "stdout",
     "output_type": "stream",
     "text": [
      "torch.Size([16, 18, 15, 15])\n",
      "torch.Size([16, 18, 15, 15])\n",
      "torch.Size([16, 18, 15, 15])\n"
     ]
    },
    {
     "name": "stderr",
     "output_type": "stream",
     "text": [
      "\r",
      " 46%|████▋     | 31/67 [00:02<00:02, 14.64it/s]"
     ]
    },
    {
     "name": "stdout",
     "output_type": "stream",
     "text": [
      "torch.Size([16, 18, 15, 15])\n",
      "torch.Size([16, 18, 15, 15])\n",
      "torch.Size([16, 18, 15, 15])\n",
      "torch.Size([16, 18, 15, 15])\n"
     ]
    },
    {
     "name": "stderr",
     "output_type": "stream",
     "text": [
      " 52%|█████▏    | 35/67 [00:02<00:02, 15.40it/s]"
     ]
    },
    {
     "name": "stdout",
     "output_type": "stream",
     "text": [
      "torch.Size([16, 18, 15, 15])\n",
      "torch.Size([16, 18, 15, 15])\n",
      "torch.Size([16, 18, 15, 15])\n",
      "torch.Size([16, 18, 15, 15])\n"
     ]
    },
    {
     "name": "stderr",
     "output_type": "stream",
     "text": [
      " 58%|█████▊    | 39/67 [00:02<00:01, 15.75it/s]"
     ]
    },
    {
     "name": "stdout",
     "output_type": "stream",
     "text": [
      "torch.Size([16, 18, 15, 15])\n",
      "torch.Size([16, 18, 15, 15])\n",
      "torch.Size([16, 18, 15, 15])\n",
      "torch.Size([16, 18, 15, 15])\n"
     ]
    },
    {
     "name": "stderr",
     "output_type": "stream",
     "text": [
      " 64%|██████▍   | 43/67 [00:02<00:01, 15.93it/s]"
     ]
    },
    {
     "name": "stdout",
     "output_type": "stream",
     "text": [
      "torch.Size([16, 18, 15, 15])\n",
      "torch.Size([16, 18, 15, 15])\n",
      "torch.Size([16, 18, 15, 15])\n",
      "torch.Size([16, 18, 15, 15])\n"
     ]
    },
    {
     "name": "stderr",
     "output_type": "stream",
     "text": [
      " 70%|███████   | 47/67 [00:03<00:01, 15.67it/s]"
     ]
    },
    {
     "name": "stdout",
     "output_type": "stream",
     "text": [
      "torch.Size([16, 18, 15, 15])\n",
      "torch.Size([16, 18, 15, 15])\n",
      "torch.Size([16, 18, 15, 15])\n",
      "torch.Size([16, 18, 15, 15])\n"
     ]
    },
    {
     "name": "stderr",
     "output_type": "stream",
     "text": [
      " 76%|███████▌  | 51/67 [00:03<00:01, 14.80it/s]"
     ]
    },
    {
     "name": "stdout",
     "output_type": "stream",
     "text": [
      "torch.Size([16, 18, 15, 15])\n",
      "torch.Size([16, 18, 15, 15])\n",
      "torch.Size([16, 18, 15, 15])\n"
     ]
    },
    {
     "name": "stderr",
     "output_type": "stream",
     "text": [
      " 82%|████████▏ | 55/67 [00:03<00:00, 14.18it/s]"
     ]
    },
    {
     "name": "stdout",
     "output_type": "stream",
     "text": [
      "torch.Size([16, 18, 15, 15])\n",
      "torch.Size([16, 18, 15, 15])\n",
      "torch.Size([16, 18, 15, 15])\n"
     ]
    },
    {
     "name": "stderr",
     "output_type": "stream",
     "text": [
      "\r",
      " 85%|████████▌ | 57/67 [00:03<00:00, 13.81it/s]"
     ]
    },
    {
     "name": "stdout",
     "output_type": "stream",
     "text": [
      "torch.Size([16, 18, 15, 15])\n",
      "torch.Size([16, 18, 15, 15])\n",
      "torch.Size([16, 18, 15, 15])\n"
     ]
    },
    {
     "name": "stderr",
     "output_type": "stream",
     "text": [
      " 91%|█████████ | 61/67 [00:04<00:00, 14.52it/s]"
     ]
    },
    {
     "name": "stdout",
     "output_type": "stream",
     "text": [
      "torch.Size([16, 18, 15, 15])\n",
      "torch.Size([16, 18, 15, 15])\n",
      "torch.Size([16, 18, 15, 15])\n",
      "torch.Size([16, 18, 15, 15])\n"
     ]
    },
    {
     "name": "stderr",
     "output_type": "stream",
     "text": [
      " 97%|█████████▋| 65/67 [00:04<00:00, 14.83it/s]"
     ]
    },
    {
     "name": "stdout",
     "output_type": "stream",
     "text": [
      "torch.Size([16, 18, 15, 15])\n",
      "torch.Size([16, 18, 15, 15])\n",
      "torch.Size([16, 18, 15, 15])\n"
     ]
    },
    {
     "name": "stderr",
     "output_type": "stream",
     "text": [
      "100%|██████████| 67/67 [00:04<00:00, 14.65it/s]\n"
     ]
    },
    {
     "name": "stdout",
     "output_type": "stream",
     "text": [
      "torch.Size([16, 18, 15, 15])\n",
      "torch.Size([16, 18, 15, 15])\n",
      "Avg Train Loss for Epoch : 0 is 6.8656993\n",
      "Avg Train accuracy for Epoch : 0 is 0.36100746268656714\n",
      "torch.Size([16, 18, 15, 15])\n",
      "torch.Size([16, 18, 15, 15])\n",
      "torch.Size([16, 18, 15, 15])\n",
      "torch.Size([16, 18, 15, 15])\n",
      "torch.Size([16, 18, 15, 15])\n"
     ]
    },
    {
     "name": "stderr",
     "output_type": "stream",
     "text": [
      "  3%|▎         | 2/67 [00:00<00:03, 16.97it/s]"
     ]
    },
    {
     "name": "stdout",
     "output_type": "stream",
     "text": [
      "torch.Size([16, 18, 15, 15])\n",
      "torch.Size([16, 18, 15, 15])\n",
      "Avg Validation accuracy for Epoch : 0 is 0.5535714285714286\n",
      "torch.Size([16, 18, 15, 15])\n",
      "torch.Size([16, 18, 15, 15])\n",
      "torch.Size([16, 18, 15, 15])\n"
     ]
    },
    {
     "name": "stderr",
     "output_type": "stream",
     "text": [
      "  9%|▉         | 6/67 [00:00<00:03, 16.49it/s]"
     ]
    },
    {
     "name": "stdout",
     "output_type": "stream",
     "text": [
      "torch.Size([16, 18, 15, 15])\n",
      "torch.Size([16, 18, 15, 15])\n",
      "torch.Size([16, 18, 15, 15])\n",
      "torch.Size([16, 18, 15, 15])\n"
     ]
    },
    {
     "name": "stderr",
     "output_type": "stream",
     "text": [
      " 15%|█▍        | 10/67 [00:00<00:03, 16.10it/s]"
     ]
    },
    {
     "name": "stdout",
     "output_type": "stream",
     "text": [
      "torch.Size([16, 18, 15, 15])\n",
      "torch.Size([16, 18, 15, 15])\n",
      "torch.Size([16, 18, 15, 15])\n",
      "torch.Size([16, 18, 15, 15])\n"
     ]
    },
    {
     "name": "stderr",
     "output_type": "stream",
     "text": [
      " 21%|██        | 14/67 [00:00<00:03, 16.12it/s]"
     ]
    },
    {
     "name": "stdout",
     "output_type": "stream",
     "text": [
      "torch.Size([16, 18, 15, 15])\n",
      "torch.Size([16, 18, 15, 15])\n",
      "torch.Size([16, 18, 15, 15])\n",
      "torch.Size([16, 18, 15, 15])\n"
     ]
    },
    {
     "name": "stderr",
     "output_type": "stream",
     "text": [
      " 27%|██▋       | 18/67 [00:01<00:03, 15.09it/s]"
     ]
    },
    {
     "name": "stdout",
     "output_type": "stream",
     "text": [
      "torch.Size([16, 18, 15, 15])\n",
      "torch.Size([16, 18, 15, 15])\n",
      "torch.Size([16, 18, 15, 15])\n",
      "torch.Size([16, 18, 15, 15])\n"
     ]
    },
    {
     "name": "stderr",
     "output_type": "stream",
     "text": [
      " 33%|███▎      | 22/67 [00:01<00:02, 15.88it/s]"
     ]
    },
    {
     "name": "stdout",
     "output_type": "stream",
     "text": [
      "torch.Size([16, 18, 15, 15])\n",
      "torch.Size([16, 18, 15, 15])\n",
      "torch.Size([16, 18, 15, 15])\n",
      "torch.Size([16, 18, 15, 15])\n"
     ]
    },
    {
     "name": "stderr",
     "output_type": "stream",
     "text": [
      " 39%|███▉      | 26/67 [00:01<00:02, 16.14it/s]"
     ]
    },
    {
     "name": "stdout",
     "output_type": "stream",
     "text": [
      "torch.Size([16, 18, 15, 15])\n",
      "torch.Size([16, 18, 15, 15])\n",
      "torch.Size([16, 18, 15, 15])\n",
      "torch.Size([16, 18, 15, 15])\n"
     ]
    },
    {
     "name": "stderr",
     "output_type": "stream",
     "text": [
      " 45%|████▍     | 30/67 [00:01<00:02, 16.07it/s]"
     ]
    },
    {
     "name": "stdout",
     "output_type": "stream",
     "text": [
      "torch.Size([16, 18, 15, 15])\n",
      "torch.Size([16, 18, 15, 15])\n",
      "torch.Size([16, 18, 15, 15])\n",
      "torch.Size([16, 18, 15, 15])\n"
     ]
    },
    {
     "name": "stderr",
     "output_type": "stream",
     "text": [
      " 51%|█████     | 34/67 [00:02<00:01, 16.56it/s]"
     ]
    },
    {
     "name": "stdout",
     "output_type": "stream",
     "text": [
      "torch.Size([16, 18, 15, 15])\n",
      "torch.Size([16, 18, 15, 15])\n",
      "torch.Size([16, 18, 15, 15])\n",
      "torch.Size([16, 18, 15, 15])\n"
     ]
    },
    {
     "name": "stderr",
     "output_type": "stream",
     "text": [
      " 57%|█████▋    | 38/67 [00:02<00:01, 16.35it/s]"
     ]
    },
    {
     "name": "stdout",
     "output_type": "stream",
     "text": [
      "torch.Size([16, 18, 15, 15])\n",
      "torch.Size([16, 18, 15, 15])\n",
      "torch.Size([16, 18, 15, 15])\n",
      "torch.Size([16, 18, 15, 15])\n"
     ]
    },
    {
     "name": "stderr",
     "output_type": "stream",
     "text": [
      " 63%|██████▎   | 42/67 [00:02<00:01, 15.87it/s]"
     ]
    },
    {
     "name": "stdout",
     "output_type": "stream",
     "text": [
      "torch.Size([16, 18, 15, 15])\n",
      "torch.Size([16, 18, 15, 15])\n",
      "torch.Size([16, 18, 15, 15])\n",
      "torch.Size([16, 18, 15, 15])\n"
     ]
    },
    {
     "name": "stderr",
     "output_type": "stream",
     "text": [
      " 69%|██████▊   | 46/67 [00:02<00:01, 16.40it/s]"
     ]
    },
    {
     "name": "stdout",
     "output_type": "stream",
     "text": [
      "torch.Size([16, 18, 15, 15])\n",
      "torch.Size([16, 18, 15, 15])\n",
      "torch.Size([16, 18, 15, 15])\n",
      "torch.Size([16, 18, 15, 15])\n"
     ]
    },
    {
     "name": "stderr",
     "output_type": "stream",
     "text": [
      " 75%|███████▍  | 50/67 [00:03<00:01, 16.05it/s]"
     ]
    },
    {
     "name": "stdout",
     "output_type": "stream",
     "text": [
      "torch.Size([16, 18, 15, 15])\n",
      "torch.Size([16, 18, 15, 15])\n",
      "torch.Size([16, 18, 15, 15])\n",
      "torch.Size([16, 18, 15, 15])\n"
     ]
    },
    {
     "name": "stderr",
     "output_type": "stream",
     "text": [
      " 81%|████████  | 54/67 [00:03<00:00, 15.67it/s]"
     ]
    },
    {
     "name": "stdout",
     "output_type": "stream",
     "text": [
      "torch.Size([16, 18, 15, 15])\n",
      "torch.Size([16, 18, 15, 15])\n",
      "torch.Size([16, 18, 15, 15])\n",
      "torch.Size([16, 18, 15, 15])\n"
     ]
    },
    {
     "name": "stderr",
     "output_type": "stream",
     "text": [
      " 87%|████████▋ | 58/67 [00:03<00:00, 14.90it/s]"
     ]
    },
    {
     "name": "stdout",
     "output_type": "stream",
     "text": [
      "torch.Size([16, 18, 15, 15])\n",
      "torch.Size([16, 18, 15, 15])\n",
      "torch.Size([16, 18, 15, 15])\n"
     ]
    },
    {
     "name": "stderr",
     "output_type": "stream",
     "text": [
      "\r",
      " 90%|████████▉ | 60/67 [00:03<00:00, 14.31it/s]"
     ]
    },
    {
     "name": "stdout",
     "output_type": "stream",
     "text": [
      "torch.Size([16, 18, 15, 15])\n",
      "torch.Size([16, 18, 15, 15])\n",
      "torch.Size([16, 18, 15, 15])\n"
     ]
    },
    {
     "name": "stderr",
     "output_type": "stream",
     "text": [
      " 96%|█████████▌| 64/67 [00:04<00:00, 15.14it/s]"
     ]
    },
    {
     "name": "stdout",
     "output_type": "stream",
     "text": [
      "torch.Size([16, 18, 15, 15])\n",
      "torch.Size([16, 18, 15, 15])\n",
      "torch.Size([16, 18, 15, 15])\n",
      "torch.Size([16, 18, 15, 15])\n"
     ]
    },
    {
     "name": "stderr",
     "output_type": "stream",
     "text": [
      "100%|██████████| 67/67 [00:04<00:00, 15.64it/s]\n",
      "  0%|          | 0/67 [00:00<?, ?it/s]"
     ]
    },
    {
     "name": "stdout",
     "output_type": "stream",
     "text": [
      "torch.Size([16, 18, 15, 15])\n",
      "torch.Size([16, 18, 15, 15])\n",
      "Avg Train Loss for Epoch : 1 is 0.76446503\n",
      "Avg Train accuracy for Epoch : 1 is 0.7313432835820896\n",
      "torch.Size([16, 18, 15, 15])\n",
      "torch.Size([16, 18, 15, 15])\n",
      "torch.Size([16, 18, 15, 15])\n",
      "torch.Size([16, 18, 15, 15])\n",
      "torch.Size([16, 18, 15, 15])\n",
      "torch.Size([16, 18, 15, 15])\n",
      "torch.Size([16, 18, 15, 15])\n",
      "Avg Validation accuracy for Epoch : 1 is 0.8125\n",
      "torch.Size([16, 18, 15, 15])\n"
     ]
    },
    {
     "name": "stderr",
     "output_type": "stream",
     "text": [
      "  6%|▌         | 4/67 [00:00<00:03, 16.82it/s]"
     ]
    },
    {
     "name": "stdout",
     "output_type": "stream",
     "text": [
      "torch.Size([16, 18, 15, 15])\n",
      "torch.Size([16, 18, 15, 15])\n",
      "torch.Size([16, 18, 15, 15])\n",
      "torch.Size([16, 18, 15, 15])\n"
     ]
    },
    {
     "name": "stderr",
     "output_type": "stream",
     "text": [
      " 12%|█▏        | 8/67 [00:00<00:03, 16.01it/s]"
     ]
    },
    {
     "name": "stdout",
     "output_type": "stream",
     "text": [
      "torch.Size([16, 18, 15, 15])\n",
      "torch.Size([16, 18, 15, 15])\n",
      "torch.Size([16, 18, 15, 15])\n"
     ]
    },
    {
     "name": "stderr",
     "output_type": "stream",
     "text": [
      "\r",
      " 15%|█▍        | 10/67 [00:00<00:03, 15.20it/s]"
     ]
    },
    {
     "name": "stdout",
     "output_type": "stream",
     "text": [
      "torch.Size([16, 18, 15, 15])\n",
      "torch.Size([16, 18, 15, 15])\n",
      "torch.Size([16, 18, 15, 15])\n",
      "torch.Size([16, 18, 15, 15])"
     ]
    },
    {
     "name": "stderr",
     "output_type": "stream",
     "text": [
      " 21%|██        | 14/67 [00:00<00:03, 15.55it/s]"
     ]
    },
    {
     "name": "stdout",
     "output_type": "stream",
     "text": [
      "\n",
      "torch.Size([16, 18, 15, 15])\n",
      "torch.Size([16, 18, 15, 15])\n",
      "torch.Size([16, 18, 15, 15])\n"
     ]
    },
    {
     "name": "stderr",
     "output_type": "stream",
     "text": [
      " 27%|██▋       | 18/67 [00:01<00:03, 15.86it/s]"
     ]
    },
    {
     "name": "stdout",
     "output_type": "stream",
     "text": [
      "torch.Size([16, 18, 15, 15])\n",
      "torch.Size([16, 18, 15, 15])\n",
      "torch.Size([16, 18, 15, 15])\n",
      "torch.Size([16, 18, 15, 15])\n"
     ]
    },
    {
     "name": "stderr",
     "output_type": "stream",
     "text": [
      " 33%|███▎      | 22/67 [00:01<00:02, 15.97it/s]"
     ]
    },
    {
     "name": "stdout",
     "output_type": "stream",
     "text": [
      "torch.Size([16, 18, 15, 15])\n",
      "torch.Size([16, 18, 15, 15])\n",
      "torch.Size([16, 18, 15, 15])\n",
      "torch.Size([16, 18, 15, 15])\n"
     ]
    },
    {
     "name": "stderr",
     "output_type": "stream",
     "text": [
      "\r",
      " 36%|███▌      | 24/67 [00:01<00:02, 14.64it/s]"
     ]
    },
    {
     "name": "stdout",
     "output_type": "stream",
     "text": [
      "torch.Size([16, 18, 15, 15])\n",
      "torch.Size([16, 18, 15, 15])\n",
      "torch.Size([16, 18, 15, 15])\n"
     ]
    },
    {
     "name": "stderr",
     "output_type": "stream",
     "text": [
      " 42%|████▏     | 28/67 [00:01<00:02, 14.45it/s]"
     ]
    },
    {
     "name": "stdout",
     "output_type": "stream",
     "text": [
      "torch.Size([16, 18, 15, 15])\n",
      "torch.Size([16, 18, 15, 15])\n",
      "torch.Size([16, 18, 15, 15])\n",
      "torch.Size([16, 18, 15, 15])\n"
     ]
    },
    {
     "name": "stderr",
     "output_type": "stream",
     "text": [
      " 48%|████▊     | 32/67 [00:02<00:02, 14.25it/s]"
     ]
    },
    {
     "name": "stdout",
     "output_type": "stream",
     "text": [
      "torch.Size([16, 18, 15, 15])\n",
      "torch.Size([16, 18, 15, 15])\n",
      "torch.Size([16, 18, 15, 15])\n"
     ]
    },
    {
     "name": "stderr",
     "output_type": "stream",
     "text": [
      " 54%|█████▎    | 36/67 [00:02<00:02, 14.36it/s]"
     ]
    },
    {
     "name": "stdout",
     "output_type": "stream",
     "text": [
      "torch.Size([16, 18, 15, 15])\n",
      "torch.Size([16, 18, 15, 15])\n",
      "torch.Size([16, 18, 15, 15])\n"
     ]
    },
    {
     "name": "stderr",
     "output_type": "stream",
     "text": [
      "\r",
      " 57%|█████▋    | 38/67 [00:02<00:02, 14.46it/s]"
     ]
    },
    {
     "name": "stdout",
     "output_type": "stream",
     "text": [
      "torch.Size([16, 18, 15, 15])\n",
      "torch.Size([16, 18, 15, 15])\n",
      "torch.Size([16, 18, 15, 15])\n"
     ]
    },
    {
     "name": "stderr",
     "output_type": "stream",
     "text": [
      " 63%|██████▎   | 42/67 [00:02<00:01, 14.79it/s]"
     ]
    },
    {
     "name": "stdout",
     "output_type": "stream",
     "text": [
      "torch.Size([16, 18, 15, 15])\n",
      "torch.Size([16, 18, 15, 15])\n",
      "torch.Size([16, 18, 15, 15])\n",
      "torch.Size([16, 18, 15, 15])\n"
     ]
    },
    {
     "name": "stderr",
     "output_type": "stream",
     "text": [
      "\r",
      " 66%|██████▌   | 44/67 [00:02<00:01, 13.74it/s]"
     ]
    },
    {
     "name": "stdout",
     "output_type": "stream",
     "text": [
      "torch.Size([16, 18, 15, 15])\n",
      "torch.Size([16, 18, 15, 15])\n",
      "torch.Size([16, 18, 15, 15])\n"
     ]
    },
    {
     "name": "stderr",
     "output_type": "stream",
     "text": [
      " 72%|███████▏  | 48/67 [00:03<00:01, 14.55it/s]"
     ]
    },
    {
     "name": "stdout",
     "output_type": "stream",
     "text": [
      "torch.Size([16, 18, 15, 15])\n",
      "torch.Size([16, 18, 15, 15])\n",
      "torch.Size([16, 18, 15, 15])\n",
      "torch.Size([16, 18, 15, 15])\n"
     ]
    },
    {
     "name": "stderr",
     "output_type": "stream",
     "text": [
      " 78%|███████▊  | 52/67 [00:03<00:01, 14.85it/s]"
     ]
    },
    {
     "name": "stdout",
     "output_type": "stream",
     "text": [
      "torch.Size([16, 18, 15, 15])\n",
      "torch.Size([16, 18, 15, 15])\n",
      "torch.Size([16, 18, 15, 15])\n",
      "torch.Size([16, 18, 15, 15])\n"
     ]
    },
    {
     "name": "stderr",
     "output_type": "stream",
     "text": [
      " 84%|████████▎ | 56/67 [00:03<00:00, 15.96it/s]"
     ]
    },
    {
     "name": "stdout",
     "output_type": "stream",
     "text": [
      "torch.Size([16, 18, 15, 15])\n",
      "torch.Size([16, 18, 15, 15])\n",
      "torch.Size([16, 18, 15, 15])\n",
      "torch.Size([16, 18, 15, 15])\n"
     ]
    },
    {
     "name": "stderr",
     "output_type": "stream",
     "text": [
      " 90%|████████▉ | 60/67 [00:04<00:00, 15.47it/s]"
     ]
    },
    {
     "name": "stdout",
     "output_type": "stream",
     "text": [
      "torch.Size([16, 18, 15, 15])\n",
      "torch.Size([16, 18, 15, 15])\n",
      "torch.Size([16, 18, 15, 15])\n",
      "torch.Size([16, 18, 15, 15])\n"
     ]
    },
    {
     "name": "stderr",
     "output_type": "stream",
     "text": [
      " 96%|█████████▌| 64/67 [00:04<00:00, 15.48it/s]"
     ]
    },
    {
     "name": "stdout",
     "output_type": "stream",
     "text": [
      "torch.Size([16, 18, 15, 15])\n",
      "torch.Size([16, 18, 15, 15])\n",
      "torch.Size([16, 18, 15, 15])\n",
      "torch.Size([16, 18, 15, 15])\n"
     ]
    },
    {
     "name": "stderr",
     "output_type": "stream",
     "text": [
      "100%|██████████| 67/67 [00:04<00:00, 15.03it/s]\n",
      "  0%|          | 0/67 [00:00<?, ?it/s]"
     ]
    },
    {
     "name": "stdout",
     "output_type": "stream",
     "text": [
      "torch.Size([16, 18, 15, 15])\n",
      "Avg Train Loss for Epoch : 2 is 0.3338078\n",
      "Avg Train accuracy for Epoch : 2 is 0.8861940298507462\n",
      "torch.Size([16, 18, 15, 15])\n",
      "torch.Size([16, 18, 15, 15])\n",
      "torch.Size([16, 18, 15, 15])\n",
      "torch.Size([16, 18, 15, 15])\n",
      "torch.Size([16, 18, 15, 15])\n",
      "torch.Size([16, 18, 15, 15])\n",
      "torch.Size([16, 18, 15, 15])\n",
      "Avg Validation accuracy for Epoch : 2 is 0.8125\n",
      "torch.Size([16, 18, 15, 15])\n"
     ]
    },
    {
     "name": "stderr",
     "output_type": "stream",
     "text": [
      "  6%|▌         | 4/67 [00:00<00:03, 15.90it/s]"
     ]
    },
    {
     "name": "stdout",
     "output_type": "stream",
     "text": [
      "torch.Size([16, 18, 15, 15])\n",
      "torch.Size([16, 18, 15, 15])\n",
      "torch.Size([16, 18, 15, 15])\n",
      "torch.Size([16, 18, 15, 15])\n"
     ]
    },
    {
     "name": "stderr",
     "output_type": "stream",
     "text": [
      " 12%|█▏        | 8/67 [00:00<00:03, 16.22it/s]"
     ]
    },
    {
     "name": "stdout",
     "output_type": "stream",
     "text": [
      "torch.Size([16, 18, 15, 15])\n",
      "torch.Size([16, 18, 15, 15])\n",
      "torch.Size([16, 18, 15, 15])\n",
      "torch.Size([16, 18, 15, 15])\n"
     ]
    },
    {
     "name": "stderr",
     "output_type": "stream",
     "text": [
      " 18%|█▊        | 12/67 [00:00<00:03, 16.47it/s]"
     ]
    },
    {
     "name": "stdout",
     "output_type": "stream",
     "text": [
      "torch.Size([16, 18, 15, 15])\n",
      "torch.Size([16, 18, 15, 15])\n",
      "torch.Size([16, 18, 15, 15])\n",
      "torch.Size([16, 18, 15, 15])\n"
     ]
    },
    {
     "name": "stderr",
     "output_type": "stream",
     "text": [
      " 24%|██▍       | 16/67 [00:00<00:03, 16.49it/s]"
     ]
    },
    {
     "name": "stdout",
     "output_type": "stream",
     "text": [
      "torch.Size([16, 18, 15, 15])\n",
      "torch.Size([16, 18, 15, 15])\n",
      "torch.Size([16, 18, 15, 15])\n",
      "torch.Size([16, 18, 15, 15])\n"
     ]
    },
    {
     "name": "stderr",
     "output_type": "stream",
     "text": [
      " 30%|██▉       | 20/67 [00:01<00:02, 17.11it/s]"
     ]
    },
    {
     "name": "stdout",
     "output_type": "stream",
     "text": [
      "torch.Size([16, 18, 15, 15])\n",
      "torch.Size([16, 18, 15, 15])\n",
      "torch.Size([16, 18, 15, 15])\n",
      "torch.Size([16, 18, 15, 15])\n"
     ]
    },
    {
     "name": "stderr",
     "output_type": "stream",
     "text": [
      " 36%|███▌      | 24/67 [00:01<00:02, 16.90it/s]"
     ]
    },
    {
     "name": "stdout",
     "output_type": "stream",
     "text": [
      "torch.Size([16, 18, 15, 15])\n",
      "torch.Size([16, 18, 15, 15])\n",
      "torch.Size([16, 18, 15, 15])\n",
      "torch.Size([16, 18, 15, 15])\n"
     ]
    },
    {
     "name": "stderr",
     "output_type": "stream",
     "text": [
      " 42%|████▏     | 28/67 [00:01<00:02, 16.27it/s]"
     ]
    },
    {
     "name": "stdout",
     "output_type": "stream",
     "text": [
      "torch.Size([16, 18, 15, 15])\n",
      "torch.Size([16, 18, 15, 15])\n",
      "torch.Size([16, 18, 15, 15])\n",
      "torch.Size([16, 18, 15, 15])\n"
     ]
    },
    {
     "name": "stderr",
     "output_type": "stream",
     "text": [
      " 48%|████▊     | 32/67 [00:01<00:02, 16.47it/s]"
     ]
    },
    {
     "name": "stdout",
     "output_type": "stream",
     "text": [
      "torch.Size([16, 18, 15, 15])\n",
      "torch.Size([16, 18, 15, 15])\n",
      "torch.Size([16, 18, 15, 15])\n",
      "torch.Size([16, 18, 15, 15])\n"
     ]
    },
    {
     "name": "stderr",
     "output_type": "stream",
     "text": [
      " 54%|█████▎    | 36/67 [00:02<00:01, 16.30it/s]"
     ]
    },
    {
     "name": "stdout",
     "output_type": "stream",
     "text": [
      "torch.Size([16, 18, 15, 15])\n",
      "torch.Size([16, 18, 15, 15])\n",
      "torch.Size([16, 18, 15, 15])\n",
      "torch.Size([16, 18, 15, 15])\n"
     ]
    },
    {
     "name": "stderr",
     "output_type": "stream",
     "text": [
      " 60%|█████▉    | 40/67 [00:02<00:01, 16.12it/s]"
     ]
    },
    {
     "name": "stdout",
     "output_type": "stream",
     "text": [
      "torch.Size([16, 18, 15, 15])\n",
      "torch.Size([16, 18, 15, 15])\n",
      "torch.Size([16, 18, 15, 15])\n",
      "torch.Size([16, 18, 15, 15])\n"
     ]
    },
    {
     "name": "stderr",
     "output_type": "stream",
     "text": [
      " 66%|██████▌   | 44/67 [00:02<00:01, 16.27it/s]"
     ]
    },
    {
     "name": "stdout",
     "output_type": "stream",
     "text": [
      "torch.Size([16, 18, 15, 15])\n",
      "torch.Size([16, 18, 15, 15])\n",
      "torch.Size([16, 18, 15, 15])\n",
      "torch.Size([16, 18, 15, 15])\n"
     ]
    },
    {
     "name": "stderr",
     "output_type": "stream",
     "text": [
      " 72%|███████▏  | 48/67 [00:02<00:01, 16.39it/s]"
     ]
    },
    {
     "name": "stdout",
     "output_type": "stream",
     "text": [
      "torch.Size([16, 18, 15, 15])\n",
      "torch.Size([16, 18, 15, 15])\n",
      "torch.Size([16, 18, 15, 15])\n",
      "torch.Size([16, 18, 15, 15])\n"
     ]
    },
    {
     "name": "stderr",
     "output_type": "stream",
     "text": [
      " 78%|███████▊  | 52/67 [00:03<00:00, 16.95it/s]"
     ]
    },
    {
     "name": "stdout",
     "output_type": "stream",
     "text": [
      "torch.Size([16, 18, 15, 15])\n",
      "torch.Size([16, 18, 15, 15])\n",
      "torch.Size([16, 18, 15, 15])\n",
      "torch.Size([16, 18, 15, 15])\n"
     ]
    },
    {
     "name": "stderr",
     "output_type": "stream",
     "text": [
      " 84%|████████▎ | 56/67 [00:03<00:00, 17.18it/s]"
     ]
    },
    {
     "name": "stdout",
     "output_type": "stream",
     "text": [
      "torch.Size([16, 18, 15, 15])\n",
      "torch.Size([16, 18, 15, 15])\n",
      "torch.Size([16, 18, 15, 15])\n",
      "torch.Size([16, 18, 15, 15])\n"
     ]
    },
    {
     "name": "stderr",
     "output_type": "stream",
     "text": [
      " 90%|████████▉ | 60/67 [00:03<00:00, 17.49it/s]"
     ]
    },
    {
     "name": "stdout",
     "output_type": "stream",
     "text": [
      "torch.Size([16, 18, 15, 15])\n",
      "torch.Size([16, 18, 15, 15])\n",
      "torch.Size([16, 18, 15, 15])\n",
      "torch.Size([16, 18, 15, 15])\n"
     ]
    },
    {
     "name": "stderr",
     "output_type": "stream",
     "text": [
      " 96%|█████████▌| 64/67 [00:03<00:00, 17.26it/s]"
     ]
    },
    {
     "name": "stdout",
     "output_type": "stream",
     "text": [
      "torch.Size([16, 18, 15, 15])\n",
      "torch.Size([16, 18, 15, 15])\n",
      "torch.Size([16, 18, 15, 15])\n",
      "torch.Size([16, 18, 15, 15])\n"
     ]
    },
    {
     "name": "stderr",
     "output_type": "stream",
     "text": [
      "100%|██████████| 67/67 [00:04<00:00, 16.64it/s]\n",
      "  0%|          | 0/67 [00:00<?, ?it/s]"
     ]
    },
    {
     "name": "stdout",
     "output_type": "stream",
     "text": [
      "torch.Size([16, 18, 15, 15])\n",
      "torch.Size([16, 18, 15, 15])\n",
      "Avg Train Loss for Epoch : 3 is 0.20483817\n",
      "Avg Train accuracy for Epoch : 3 is 0.9300373134328358\n",
      "torch.Size([16, 18, 15, 15])\n",
      "torch.Size([16, 18, 15, 15])\n",
      "torch.Size([16, 18, 15, 15])\n",
      "torch.Size([16, 18, 15, 15])\n",
      "torch.Size([16, 18, 15, 15])\n",
      "torch.Size([16, 18, 15, 15])\n",
      "torch.Size([16, 18, 15, 15])\n",
      "Avg Validation accuracy for Epoch : 3 is 0.8214285714285714\n"
     ]
    },
    {
     "name": "stderr",
     "output_type": "stream",
     "text": [
      "\r",
      "  3%|▎         | 2/67 [00:00<00:03, 17.87it/s]"
     ]
    },
    {
     "name": "stdout",
     "output_type": "stream",
     "text": [
      "torch.Size([16, 18, 15, 15])\n",
      "torch.Size([16, 18, 15, 15])\n",
      "torch.Size([16, 18, 15, 15])\n",
      "torch.Size([16, 18, 15, 15])\n"
     ]
    },
    {
     "name": "stderr",
     "output_type": "stream",
     "text": [
      "  9%|▉         | 6/67 [00:00<00:03, 17.55it/s]"
     ]
    },
    {
     "name": "stdout",
     "output_type": "stream",
     "text": [
      "torch.Size([16, 18, 15, 15])\n",
      "torch.Size([16, 18, 15, 15])\n",
      "torch.Size([16, 18, 15, 15])\n",
      "torch.Size([16, 18, 15, 15])\n"
     ]
    },
    {
     "name": "stderr",
     "output_type": "stream",
     "text": [
      " 15%|█▍        | 10/67 [00:00<00:03, 16.61it/s]"
     ]
    },
    {
     "name": "stdout",
     "output_type": "stream",
     "text": [
      "torch.Size([16, 18, 15, 15])\n",
      "torch.Size([16, 18, 15, 15])\n",
      "torch.Size([16, 18, 15, 15])\n"
     ]
    },
    {
     "name": "stderr",
     "output_type": "stream",
     "text": [
      " 21%|██        | 14/67 [00:00<00:03, 16.53it/s]"
     ]
    },
    {
     "name": "stdout",
     "output_type": "stream",
     "text": [
      "torch.Size([16, 18, 15, 15])\n",
      "torch.Size([16, 18, 15, 15])\n",
      "torch.Size([16, 18, 15, 15])\n",
      "torch.Size([16, 18, 15, 15])\n"
     ]
    },
    {
     "name": "stderr",
     "output_type": "stream",
     "text": [
      " 27%|██▋       | 18/67 [00:01<00:02, 17.48it/s]"
     ]
    },
    {
     "name": "stdout",
     "output_type": "stream",
     "text": [
      "torch.Size([16, 18, 15, 15])\n",
      "torch.Size([16, 18, 15, 15])\n",
      "torch.Size([16, 18, 15, 15])\n",
      "torch.Size([16, 18, 15, 15])\n"
     ]
    },
    {
     "name": "stderr",
     "output_type": "stream",
     "text": [
      " 33%|███▎      | 22/67 [00:01<00:02, 17.45it/s]"
     ]
    },
    {
     "name": "stdout",
     "output_type": "stream",
     "text": [
      "torch.Size([16, 18, 15, 15])\n",
      "torch.Size([16, 18, 15, 15])\n",
      "torch.Size([16, 18, 15, 15])\n",
      "torch.Size([16, 18, 15, 15])\n"
     ]
    },
    {
     "name": "stderr",
     "output_type": "stream",
     "text": [
      " 39%|███▉      | 26/67 [00:01<00:02, 17.40it/s]"
     ]
    },
    {
     "name": "stdout",
     "output_type": "stream",
     "text": [
      "torch.Size([16, 18, 15, 15])\n",
      "torch.Size([16, 18, 15, 15])\n",
      "torch.Size([16, 18, 15, 15])\n",
      "torch.Size([16, 18, 15, 15])\n"
     ]
    },
    {
     "name": "stderr",
     "output_type": "stream",
     "text": [
      " 45%|████▍     | 30/67 [00:01<00:02, 17.05it/s]"
     ]
    },
    {
     "name": "stdout",
     "output_type": "stream",
     "text": [
      "torch.Size([16, 18, 15, 15])\n",
      "torch.Size([16, 18, 15, 15])\n",
      "torch.Size([16, 18, 15, 15])\n",
      "torch.Size([16, 18, 15, 15])\n"
     ]
    },
    {
     "name": "stderr",
     "output_type": "stream",
     "text": [
      " 51%|█████     | 34/67 [00:01<00:01, 17.46it/s]"
     ]
    },
    {
     "name": "stdout",
     "output_type": "stream",
     "text": [
      "torch.Size([16, 18, 15, 15])\n",
      "torch.Size([16, 18, 15, 15])\n",
      "torch.Size([16, 18, 15, 15])\n",
      "torch.Size([16, 18, 15, 15])\n"
     ]
    },
    {
     "name": "stderr",
     "output_type": "stream",
     "text": [
      " 57%|█████▋    | 38/67 [00:02<00:01, 17.83it/s]"
     ]
    },
    {
     "name": "stdout",
     "output_type": "stream",
     "text": [
      "torch.Size([16, 18, 15, 15])\n",
      "torch.Size([16, 18, 15, 15])\n",
      "torch.Size([16, 18, 15, 15])\n",
      "torch.Size([16, 18, 15, 15])\n"
     ]
    },
    {
     "name": "stderr",
     "output_type": "stream",
     "text": [
      " 63%|██████▎   | 42/67 [00:02<00:01, 17.95it/s]"
     ]
    },
    {
     "name": "stdout",
     "output_type": "stream",
     "text": [
      "torch.Size([16, 18, 15, 15])\n",
      "torch.Size([16, 18, 15, 15])\n",
      "torch.Size([16, 18, 15, 15])\n",
      "torch.Size([16, 18, 15, 15])\n"
     ]
    },
    {
     "name": "stderr",
     "output_type": "stream",
     "text": [
      " 69%|██████▊   | 46/67 [00:02<00:01, 17.81it/s]"
     ]
    },
    {
     "name": "stdout",
     "output_type": "stream",
     "text": [
      "torch.Size([16, 18, 15, 15])\n",
      "torch.Size([16, 18, 15, 15])\n",
      "torch.Size([16, 18, 15, 15])\n",
      "torch.Size([16, 18, 15, 15])\n"
     ]
    },
    {
     "name": "stderr",
     "output_type": "stream",
     "text": [
      " 75%|███████▍  | 50/67 [00:02<00:00, 17.36it/s]"
     ]
    },
    {
     "name": "stdout",
     "output_type": "stream",
     "text": [
      "torch.Size([16, 18, 15, 15])\n",
      "torch.Size([16, 18, 15, 15])\n",
      "torch.Size([16, 18, 15, 15])\n",
      "torch.Size([16, 18, 15, 15])\n"
     ]
    },
    {
     "name": "stderr",
     "output_type": "stream",
     "text": [
      " 81%|████████  | 54/67 [00:03<00:00, 16.33it/s]"
     ]
    },
    {
     "name": "stdout",
     "output_type": "stream",
     "text": [
      "torch.Size([16, 18, 15, 15])\n",
      "torch.Size([16, 18, 15, 15])\n",
      "torch.Size([16, 18, 15, 15])\n",
      "torch.Size([16, 18, 15, 15])\n"
     ]
    },
    {
     "name": "stderr",
     "output_type": "stream",
     "text": [
      " 87%|████████▋ | 58/67 [00:03<00:00, 16.12it/s]"
     ]
    },
    {
     "name": "stdout",
     "output_type": "stream",
     "text": [
      "torch.Size([16, 18, 15, 15])\n",
      "torch.Size([16, 18, 15, 15])\n",
      "torch.Size([16, 18, 15, 15])\n",
      "torch.Size([16, 18, 15, 15])\n"
     ]
    },
    {
     "name": "stderr",
     "output_type": "stream",
     "text": [
      " 93%|█████████▎| 62/67 [00:03<00:00, 17.24it/s]"
     ]
    },
    {
     "name": "stdout",
     "output_type": "stream",
     "text": [
      "torch.Size([16, 18, 15, 15])\n",
      "torch.Size([16, 18, 15, 15])\n",
      "torch.Size([16, 18, 15, 15])\n",
      "torch.Size([16, 18, 15, 15])\n"
     ]
    },
    {
     "name": "stderr",
     "output_type": "stream",
     "text": [
      " 99%|█████████▊| 66/67 [00:03<00:00, 17.75it/s]"
     ]
    },
    {
     "name": "stdout",
     "output_type": "stream",
     "text": [
      "torch.Size([16, 18, 15, 15])\n",
      "torch.Size([16, 18, 15, 15])\n",
      "torch.Size([16, 18, 15, 15])\n",
      "torch.Size([16, 18, 15, 15])\n"
     ]
    },
    {
     "name": "stderr",
     "output_type": "stream",
     "text": [
      "100%|██████████| 67/67 [00:03<00:00, 17.19it/s]\n",
      "  0%|          | 0/67 [00:00<?, ?it/s]"
     ]
    },
    {
     "name": "stdout",
     "output_type": "stream",
     "text": [
      "Avg Train Loss for Epoch : 4 is 0.121461324\n",
      "Avg Train accuracy for Epoch : 4 is 0.960820895522388\n",
      "torch.Size([16, 18, 15, 15])\n",
      "torch.Size([16, 18, 15, 15])\n",
      "torch.Size([16, 18, 15, 15])\n",
      "torch.Size([16, 18, 15, 15])\n",
      "torch.Size([16, 18, 15, 15])\n",
      "torch.Size([16, 18, 15, 15])\n",
      "torch.Size([16, 18, 15, 15])\n",
      "Avg Validation accuracy for Epoch : 4 is 0.8660714285714286\n",
      "torch.Size([16, 18, 15, 15])\n",
      "torch.Size([16, 18, 15, 15])\n"
     ]
    },
    {
     "name": "stderr",
     "output_type": "stream",
     "text": [
      "  6%|▌         | 4/67 [00:00<00:04, 15.35it/s]"
     ]
    },
    {
     "name": "stdout",
     "output_type": "stream",
     "text": [
      "torch.Size([16, 18, 15, 15])\n",
      "torch.Size([16, 18, 15, 15])\n",
      "torch.Size([16, 18, 15, 15])\n",
      "torch.Size([16, 18, 15, 15])\n"
     ]
    },
    {
     "name": "stderr",
     "output_type": "stream",
     "text": [
      " 12%|█▏        | 8/67 [00:00<00:03, 15.80it/s]"
     ]
    },
    {
     "name": "stdout",
     "output_type": "stream",
     "text": [
      "torch.Size([16, 18, 15, 15])\n",
      "torch.Size([16, 18, 15, 15])\n",
      "torch.Size([16, 18, 15, 15])\n",
      "torch.Size([16, 18, 15, 15])\n"
     ]
    },
    {
     "name": "stderr",
     "output_type": "stream",
     "text": [
      " 18%|█▊        | 12/67 [00:00<00:03, 15.42it/s]"
     ]
    },
    {
     "name": "stdout",
     "output_type": "stream",
     "text": [
      "torch.Size([16, 18, 15, 15])\n",
      "torch.Size([16, 18, 15, 15])\n",
      "torch.Size([16, 18, 15, 15])\n",
      "torch.Size([16, 18, 15, 15])\n"
     ]
    },
    {
     "name": "stderr",
     "output_type": "stream",
     "text": [
      " 24%|██▍       | 16/67 [00:00<00:03, 16.47it/s]"
     ]
    },
    {
     "name": "stdout",
     "output_type": "stream",
     "text": [
      "torch.Size([16, 18, 15, 15])\n",
      "torch.Size([16, 18, 15, 15])\n",
      "torch.Size([16, 18, 15, 15])\n",
      "torch.Size([16, 18, 15, 15])\n"
     ]
    },
    {
     "name": "stderr",
     "output_type": "stream",
     "text": [
      " 30%|██▉       | 20/67 [00:01<00:02, 15.95it/s]"
     ]
    },
    {
     "name": "stdout",
     "output_type": "stream",
     "text": [
      "torch.Size([16, 18, 15, 15])\n",
      "torch.Size([16, 18, 15, 15])\n",
      "torch.Size([16, 18, 15, 15])\n",
      "torch.Size([16, 18, 15, 15])\n"
     ]
    },
    {
     "name": "stderr",
     "output_type": "stream",
     "text": [
      " 36%|███▌      | 24/67 [00:01<00:02, 15.80it/s]"
     ]
    },
    {
     "name": "stdout",
     "output_type": "stream",
     "text": [
      "torch.Size([16, 18, 15, 15])\n",
      "torch.Size([16, 18, 15, 15])\n",
      "torch.Size([16, 18, 15, 15])\n",
      "torch.Size([16, 18, 15, 15])\n"
     ]
    },
    {
     "name": "stderr",
     "output_type": "stream",
     "text": [
      " 42%|████▏     | 28/67 [00:01<00:02, 16.10it/s]"
     ]
    },
    {
     "name": "stdout",
     "output_type": "stream",
     "text": [
      "torch.Size([16, 18, 15, 15])\n",
      "torch.Size([16, 18, 15, 15])\n",
      "torch.Size([16, 18, 15, 15])\n",
      "torch.Size([16, 18, 15, 15])\n"
     ]
    },
    {
     "name": "stderr",
     "output_type": "stream",
     "text": [
      " 48%|████▊     | 32/67 [00:01<00:02, 16.64it/s]"
     ]
    },
    {
     "name": "stdout",
     "output_type": "stream",
     "text": [
      "torch.Size([16, 18, 15, 15])\n",
      "torch.Size([16, 18, 15, 15])\n",
      "torch.Size([16, 18, 15, 15])\n",
      "torch.Size([16, 18, 15, 15])\n"
     ]
    },
    {
     "name": "stderr",
     "output_type": "stream",
     "text": [
      " 54%|█████▎    | 36/67 [00:02<00:01, 17.05it/s]"
     ]
    },
    {
     "name": "stdout",
     "output_type": "stream",
     "text": [
      "torch.Size([16, 18, 15, 15])\n",
      "torch.Size([16, 18, 15, 15])\n",
      "torch.Size([16, 18, 15, 15])\n",
      "torch.Size([16, 18, 15, 15])\n"
     ]
    },
    {
     "name": "stderr",
     "output_type": "stream",
     "text": [
      " 60%|█████▉    | 40/67 [00:02<00:01, 16.40it/s]"
     ]
    },
    {
     "name": "stdout",
     "output_type": "stream",
     "text": [
      "torch.Size([16, 18, 15, 15])\n",
      "torch.Size([16, 18, 15, 15])\n",
      "torch.Size([16, 18, 15, 15])\n",
      "torch.Size([16, 18, 15, 15])\n"
     ]
    },
    {
     "name": "stderr",
     "output_type": "stream",
     "text": [
      " 66%|██████▌   | 44/67 [00:02<00:01, 16.43it/s]"
     ]
    },
    {
     "name": "stdout",
     "output_type": "stream",
     "text": [
      "torch.Size([16, 18, 15, 15])\n",
      "torch.Size([16, 18, 15, 15])\n",
      "torch.Size([16, 18, 15, 15])\n",
      "torch.Size([16, 18, 15, 15])\n"
     ]
    },
    {
     "name": "stderr",
     "output_type": "stream",
     "text": [
      " 72%|███████▏  | 48/67 [00:02<00:01, 17.01it/s]"
     ]
    },
    {
     "name": "stdout",
     "output_type": "stream",
     "text": [
      "torch.Size([16, 18, 15, 15])\n",
      "torch.Size([16, 18, 15, 15])\n",
      "torch.Size([16, 18, 15, 15])\n",
      "torch.Size([16, 18, 15, 15])\n"
     ]
    },
    {
     "name": "stderr",
     "output_type": "stream",
     "text": [
      " 78%|███████▊  | 52/67 [00:03<00:00, 17.01it/s]"
     ]
    },
    {
     "name": "stdout",
     "output_type": "stream",
     "text": [
      "torch.Size([16, 18, 15, 15])\n",
      "torch.Size([16, 18, 15, 15])\n",
      "torch.Size([16, 18, 15, 15])\n",
      "torch.Size([16, 18, 15, 15])\n"
     ]
    },
    {
     "name": "stderr",
     "output_type": "stream",
     "text": [
      " 84%|████████▎ | 56/67 [00:03<00:00, 16.53it/s]"
     ]
    },
    {
     "name": "stdout",
     "output_type": "stream",
     "text": [
      "torch.Size([16, 18, 15, 15])\n",
      "torch.Size([16, 18, 15, 15])\n",
      "torch.Size([16, 18, 15, 15])\n",
      "torch.Size([16, 18, 15, 15])\n"
     ]
    },
    {
     "name": "stderr",
     "output_type": "stream",
     "text": [
      " 90%|████████▉ | 60/67 [00:03<00:00, 16.61it/s]"
     ]
    },
    {
     "name": "stdout",
     "output_type": "stream",
     "text": [
      "torch.Size([16, 18, 15, 15])\n",
      "torch.Size([16, 18, 15, 15])\n",
      "torch.Size([16, 18, 15, 15])\n",
      "torch.Size([16, 18, 15, 15])\n"
     ]
    },
    {
     "name": "stderr",
     "output_type": "stream",
     "text": [
      " 96%|█████████▌| 64/67 [00:03<00:00, 17.16it/s]"
     ]
    },
    {
     "name": "stdout",
     "output_type": "stream",
     "text": [
      "torch.Size([16, 18, 15, 15])\n",
      "torch.Size([16, 18, 15, 15])\n",
      "torch.Size([16, 18, 15, 15])\n",
      "torch.Size([16, 18, 15, 15])\n"
     ]
    },
    {
     "name": "stderr",
     "output_type": "stream",
     "text": [
      "100%|██████████| 67/67 [00:04<00:00, 16.45it/s]\n",
      "  0%|          | 0/67 [00:00<?, ?it/s]"
     ]
    },
    {
     "name": "stdout",
     "output_type": "stream",
     "text": [
      "torch.Size([16, 18, 15, 15])\n",
      "Avg Train Loss for Epoch : 5 is 0.07784355\n",
      "Avg Train accuracy for Epoch : 5 is 0.9785447761194029\n",
      "torch.Size([16, 18, 15, 15])\n",
      "torch.Size([16, 18, 15, 15])\n",
      "torch.Size([16, 18, 15, 15])\n",
      "torch.Size([16, 18, 15, 15])\n",
      "torch.Size([16, 18, 15, 15])\n",
      "torch.Size([16, 18, 15, 15])\n",
      "torch.Size([16, 18, 15, 15])\n",
      "Avg Validation accuracy for Epoch : 5 is 0.8571428571428571\n",
      "torch.Size([16, 18, 15, 15])\n"
     ]
    },
    {
     "name": "stderr",
     "output_type": "stream",
     "text": [
      "  6%|▌         | 4/67 [00:00<00:03, 16.17it/s]"
     ]
    },
    {
     "name": "stdout",
     "output_type": "stream",
     "text": [
      "torch.Size([16, 18, 15, 15])\n",
      "torch.Size([16, 18, 15, 15])\n",
      "torch.Size([16, 18, 15, 15])\n",
      "torch.Size([16, 18, 15, 15])\n"
     ]
    },
    {
     "name": "stderr",
     "output_type": "stream",
     "text": [
      " 12%|█▏        | 8/67 [00:00<00:03, 16.09it/s]"
     ]
    },
    {
     "name": "stdout",
     "output_type": "stream",
     "text": [
      "torch.Size([16, 18, 15, 15])\n",
      "torch.Size([16, 18, 15, 15])\n",
      "torch.Size([16, 18, 15, 15])\n",
      "torch.Size([16, 18, 15, 15])\n"
     ]
    },
    {
     "name": "stderr",
     "output_type": "stream",
     "text": [
      " 18%|█▊        | 12/67 [00:00<00:03, 16.85it/s]"
     ]
    },
    {
     "name": "stdout",
     "output_type": "stream",
     "text": [
      "torch.Size([16, 18, 15, 15])\n",
      "torch.Size([16, 18, 15, 15])\n",
      "torch.Size([16, 18, 15, 15])\n",
      "torch.Size([16, 18, 15, 15])\n"
     ]
    },
    {
     "name": "stderr",
     "output_type": "stream",
     "text": [
      " 24%|██▍       | 16/67 [00:00<00:02, 17.40it/s]"
     ]
    },
    {
     "name": "stdout",
     "output_type": "stream",
     "text": [
      "torch.Size([16, 18, 15, 15])\n",
      "torch.Size([16, 18, 15, 15])\n",
      "torch.Size([16, 18, 15, 15])\n",
      "torch.Size([16, 18, 15, 15])\n"
     ]
    },
    {
     "name": "stderr",
     "output_type": "stream",
     "text": [
      " 30%|██▉       | 20/67 [00:01<00:02, 16.97it/s]"
     ]
    },
    {
     "name": "stdout",
     "output_type": "stream",
     "text": [
      "torch.Size([16, 18, 15, 15])\n",
      "torch.Size([16, 18, 15, 15])\n",
      "torch.Size([16, 18, 15, 15])\n",
      "torch.Size([16, 18, 15, 15])\n"
     ]
    },
    {
     "name": "stderr",
     "output_type": "stream",
     "text": [
      " 36%|███▌      | 24/67 [00:01<00:02, 16.91it/s]"
     ]
    },
    {
     "name": "stdout",
     "output_type": "stream",
     "text": [
      "torch.Size([16, 18, 15, 15])\n",
      "torch.Size([16, 18, 15, 15])\n",
      "torch.Size([16, 18, 15, 15])\n",
      "torch.Size([16, 18, 15, 15])\n"
     ]
    },
    {
     "name": "stderr",
     "output_type": "stream",
     "text": [
      " 42%|████▏     | 28/67 [00:01<00:02, 17.20it/s]"
     ]
    },
    {
     "name": "stdout",
     "output_type": "stream",
     "text": [
      "torch.Size([16, 18, 15, 15])\n",
      "torch.Size([16, 18, 15, 15])\n",
      "torch.Size([16, 18, 15, 15])\n",
      "torch.Size([16, 18, 15, 15])\n"
     ]
    },
    {
     "name": "stderr",
     "output_type": "stream",
     "text": [
      " 48%|████▊     | 32/67 [00:01<00:02, 17.22it/s]"
     ]
    },
    {
     "name": "stdout",
     "output_type": "stream",
     "text": [
      "torch.Size([16, 18, 15, 15])\n",
      "torch.Size([16, 18, 15, 15])\n",
      "torch.Size([16, 18, 15, 15])\n",
      "torch.Size([16, 18, 15, 15])\n"
     ]
    },
    {
     "name": "stderr",
     "output_type": "stream",
     "text": [
      " 54%|█████▎    | 36/67 [00:02<00:01, 16.87it/s]"
     ]
    },
    {
     "name": "stdout",
     "output_type": "stream",
     "text": [
      "torch.Size([16, 18, 15, 15])\n",
      "torch.Size([16, 18, 15, 15])\n",
      "torch.Size([16, 18, 15, 15])\n",
      "torch.Size([16, 18, 15, 15])\n"
     ]
    },
    {
     "name": "stderr",
     "output_type": "stream",
     "text": [
      " 60%|█████▉    | 40/67 [00:02<00:01, 17.21it/s]"
     ]
    },
    {
     "name": "stdout",
     "output_type": "stream",
     "text": [
      "torch.Size([16, 18, 15, 15])\n",
      "torch.Size([16, 18, 15, 15])\n",
      "torch.Size([16, 18, 15, 15])\n",
      "torch.Size([16, 18, 15, 15])\n"
     ]
    },
    {
     "name": "stderr",
     "output_type": "stream",
     "text": [
      " 66%|██████▌   | 44/67 [00:02<00:01, 16.81it/s]"
     ]
    },
    {
     "name": "stdout",
     "output_type": "stream",
     "text": [
      "torch.Size([16, 18, 15, 15])\n",
      "torch.Size([16, 18, 15, 15])\n",
      "torch.Size([16, 18, 15, 15])\n",
      "torch.Size([16, 18, 15, 15])\n"
     ]
    },
    {
     "name": "stderr",
     "output_type": "stream",
     "text": [
      " 72%|███████▏  | 48/67 [00:02<00:01, 17.20it/s]"
     ]
    },
    {
     "name": "stdout",
     "output_type": "stream",
     "text": [
      "torch.Size([16, 18, 15, 15])\n",
      "torch.Size([16, 18, 15, 15])\n",
      "torch.Size([16, 18, 15, 15])\n",
      "torch.Size([16, 18, 15, 15])\n"
     ]
    },
    {
     "name": "stderr",
     "output_type": "stream",
     "text": [
      " 78%|███████▊  | 52/67 [00:03<00:00, 17.63it/s]"
     ]
    },
    {
     "name": "stdout",
     "output_type": "stream",
     "text": [
      "torch.Size([16, 18, 15, 15])\n",
      "torch.Size([16, 18, 15, 15])\n",
      "torch.Size([16, 18, 15, 15])\n",
      "torch.Size([16, 18, 15, 15])\n"
     ]
    },
    {
     "name": "stderr",
     "output_type": "stream",
     "text": [
      " 84%|████████▎ | 56/67 [00:03<00:00, 17.81it/s]"
     ]
    },
    {
     "name": "stdout",
     "output_type": "stream",
     "text": [
      "torch.Size([16, 18, 15, 15])\n",
      "torch.Size([16, 18, 15, 15])\n",
      "torch.Size([16, 18, 15, 15])\n",
      "torch.Size([16, 18, 15, 15])\n"
     ]
    },
    {
     "name": "stderr",
     "output_type": "stream",
     "text": [
      " 90%|████████▉ | 60/67 [00:03<00:00, 17.30it/s]"
     ]
    },
    {
     "name": "stdout",
     "output_type": "stream",
     "text": [
      "torch.Size([16, 18, 15, 15])\n",
      "torch.Size([16, 18, 15, 15])\n",
      "torch.Size([16, 18, 15, 15])\n",
      "torch.Size([16, 18, 15, 15])\n"
     ]
    },
    {
     "name": "stderr",
     "output_type": "stream",
     "text": [
      " 96%|█████████▌| 64/67 [00:03<00:00, 17.25it/s]"
     ]
    },
    {
     "name": "stdout",
     "output_type": "stream",
     "text": [
      "torch.Size([16, 18, 15, 15])\n",
      "torch.Size([16, 18, 15, 15])\n",
      "torch.Size([16, 18, 15, 15])\n",
      "torch.Size([16, 18, 15, 15])\n"
     ]
    },
    {
     "name": "stderr",
     "output_type": "stream",
     "text": [
      "100%|██████████| 67/67 [00:03<00:00, 16.99it/s]\n",
      "  0%|          | 0/67 [00:00<?, ?it/s]"
     ]
    },
    {
     "name": "stdout",
     "output_type": "stream",
     "text": [
      "torch.Size([16, 18, 15, 15])\n",
      "torch.Size([16, 18, 15, 15])\n",
      "Avg Train Loss for Epoch : 6 is 0.059200834\n",
      "Avg Train accuracy for Epoch : 6 is 0.9794776119402985\n",
      "torch.Size([16, 18, 15, 15])\n",
      "torch.Size([16, 18, 15, 15])\n",
      "torch.Size([16, 18, 15, 15])\n",
      "torch.Size([16, 18, 15, 15])\n",
      "torch.Size([16, 18, 15, 15])\n",
      "torch.Size([16, 18, 15, 15])\n",
      "torch.Size([16, 18, 15, 15])\n",
      "Avg Validation accuracy for Epoch : 6 is 0.8035714285714286\n"
     ]
    },
    {
     "name": "stderr",
     "output_type": "stream",
     "text": [
      "\r",
      "  3%|▎         | 2/67 [00:00<00:04, 15.62it/s]"
     ]
    },
    {
     "name": "stdout",
     "output_type": "stream",
     "text": [
      "torch.Size([16, 18, 15, 15])\n",
      "torch.Size([16, 18, 15, 15])\n",
      "torch.Size([16, 18, 15, 15])\n",
      "torch.Size([16, 18, 15, 15])\n"
     ]
    },
    {
     "name": "stderr",
     "output_type": "stream",
     "text": [
      "  9%|▉         | 6/67 [00:00<00:03, 16.54it/s]"
     ]
    },
    {
     "name": "stdout",
     "output_type": "stream",
     "text": [
      "torch.Size([16, 18, 15, 15])\n",
      "torch.Size([16, 18, 15, 15])\n",
      "torch.Size([16, 18, 15, 15])\n",
      "torch.Size([16, 18, 15, 15])\n"
     ]
    },
    {
     "name": "stderr",
     "output_type": "stream",
     "text": [
      " 15%|█▍        | 10/67 [00:00<00:03, 16.98it/s]"
     ]
    },
    {
     "name": "stdout",
     "output_type": "stream",
     "text": [
      "torch.Size([16, 18, 15, 15])\n",
      "torch.Size([16, 18, 15, 15])\n",
      "torch.Size([16, 18, 15, 15])\n",
      "torch.Size([16, 18, 15, 15])\n"
     ]
    },
    {
     "name": "stderr",
     "output_type": "stream",
     "text": [
      " 21%|██        | 14/67 [00:00<00:03, 16.14it/s]"
     ]
    },
    {
     "name": "stdout",
     "output_type": "stream",
     "text": [
      "torch.Size([16, 18, 15, 15])\n",
      "torch.Size([16, 18, 15, 15])\n",
      "torch.Size([16, 18, 15, 15])\n",
      "torch.Size([16, 18, 15, 15])\n"
     ]
    },
    {
     "name": "stderr",
     "output_type": "stream",
     "text": [
      " 27%|██▋       | 18/67 [00:01<00:03, 15.76it/s]"
     ]
    },
    {
     "name": "stdout",
     "output_type": "stream",
     "text": [
      "torch.Size([16, 18, 15, 15])\n",
      "torch.Size([16, 18, 15, 15])\n",
      "torch.Size([16, 18, 15, 15])\n",
      "torch.Size([16, 18, 15, 15])\n"
     ]
    },
    {
     "name": "stderr",
     "output_type": "stream",
     "text": [
      " 33%|███▎      | 22/67 [00:01<00:02, 15.92it/s]"
     ]
    },
    {
     "name": "stdout",
     "output_type": "stream",
     "text": [
      "torch.Size([16, 18, 15, 15])\n",
      "torch.Size([16, 18, 15, 15])\n",
      "torch.Size([16, 18, 15, 15])\n",
      "torch.Size([16, 18, 15, 15])\n"
     ]
    },
    {
     "name": "stderr",
     "output_type": "stream",
     "text": [
      " 39%|███▉      | 26/67 [00:01<00:02, 15.95it/s]"
     ]
    },
    {
     "name": "stdout",
     "output_type": "stream",
     "text": [
      "torch.Size([16, 18, 15, 15])\n",
      "torch.Size([16, 18, 15, 15])\n",
      "torch.Size([16, 18, 15, 15])\n",
      "torch.Size([16, 18, 15, 15])\n"
     ]
    },
    {
     "name": "stderr",
     "output_type": "stream",
     "text": [
      " 45%|████▍     | 30/67 [00:01<00:02, 15.98it/s]"
     ]
    },
    {
     "name": "stdout",
     "output_type": "stream",
     "text": [
      "torch.Size([16, 18, 15, 15])\n",
      "torch.Size([16, 18, 15, 15])\n",
      "torch.Size([16, 18, 15, 15])\n",
      "torch.Size([16, 18, 15, 15])\n"
     ]
    },
    {
     "name": "stderr",
     "output_type": "stream",
     "text": [
      " 51%|█████     | 34/67 [00:02<00:02, 15.44it/s]"
     ]
    },
    {
     "name": "stdout",
     "output_type": "stream",
     "text": [
      "torch.Size([16, 18, 15, 15])\n",
      "torch.Size([16, 18, 15, 15])\n",
      "torch.Size([16, 18, 15, 15])\n",
      "torch.Size([16, 18, 15, 15])\n"
     ]
    },
    {
     "name": "stderr",
     "output_type": "stream",
     "text": [
      " 57%|█████▋    | 38/67 [00:02<00:01, 15.10it/s]"
     ]
    },
    {
     "name": "stdout",
     "output_type": "stream",
     "text": [
      "torch.Size([16, 18, 15, 15])\n",
      "torch.Size([16, 18, 15, 15])\n",
      "torch.Size([16, 18, 15, 15])\n",
      "torch.Size([16, 18, 15, 15])\n"
     ]
    },
    {
     "name": "stderr",
     "output_type": "stream",
     "text": [
      " 63%|██████▎   | 42/67 [00:02<00:01, 15.11it/s]"
     ]
    },
    {
     "name": "stdout",
     "output_type": "stream",
     "text": [
      "torch.Size([16, 18, 15, 15])\n",
      "torch.Size([16, 18, 15, 15])\n",
      "torch.Size([16, 18, 15, 15])\n",
      "torch.Size([16, 18, 15, 15])\n"
     ]
    },
    {
     "name": "stderr",
     "output_type": "stream",
     "text": [
      " 69%|██████▊   | 46/67 [00:02<00:01, 15.25it/s]"
     ]
    },
    {
     "name": "stdout",
     "output_type": "stream",
     "text": [
      "torch.Size([16, 18, 15, 15])\n",
      "torch.Size([16, 18, 15, 15])\n",
      "torch.Size([16, 18, 15, 15])\n",
      "torch.Size([16, 18, 15, 15])\n"
     ]
    },
    {
     "name": "stderr",
     "output_type": "stream",
     "text": [
      " 75%|███████▍  | 50/67 [00:03<00:01, 15.51it/s]"
     ]
    },
    {
     "name": "stdout",
     "output_type": "stream",
     "text": [
      "torch.Size([16, 18, 15, 15])\n",
      "torch.Size([16, 18, 15, 15])\n",
      "torch.Size([16, 18, 15, 15])\n",
      "torch.Size([16, 18, 15, 15])\n"
     ]
    },
    {
     "name": "stderr",
     "output_type": "stream",
     "text": [
      " 81%|████████  | 54/67 [00:03<00:00, 15.32it/s]"
     ]
    },
    {
     "name": "stdout",
     "output_type": "stream",
     "text": [
      "torch.Size([16, 18, 15, 15])\n",
      "torch.Size([16, 18, 15, 15])\n",
      "torch.Size([16, 18, 15, 15])\n",
      "torch.Size([16, 18, 15, 15])\n"
     ]
    },
    {
     "name": "stderr",
     "output_type": "stream",
     "text": [
      " 87%|████████▋ | 58/67 [00:03<00:00, 15.78it/s]"
     ]
    },
    {
     "name": "stdout",
     "output_type": "stream",
     "text": [
      "torch.Size([16, 18, 15, 15])\n",
      "torch.Size([16, 18, 15, 15])\n",
      "torch.Size([16, 18, 15, 15])\n",
      "torch.Size([16, 18, 15, 15])\n"
     ]
    },
    {
     "name": "stderr",
     "output_type": "stream",
     "text": [
      " 93%|█████████▎| 62/67 [00:03<00:00, 16.17it/s]"
     ]
    },
    {
     "name": "stdout",
     "output_type": "stream",
     "text": [
      "torch.Size([16, 18, 15, 15])\n",
      "torch.Size([16, 18, 15, 15])\n",
      "torch.Size([16, 18, 15, 15])\n",
      "torch.Size([16, 18, 15, 15])\n"
     ]
    },
    {
     "name": "stderr",
     "output_type": "stream",
     "text": [
      "100%|██████████| 67/67 [00:04<00:00, 15.75it/s]\n"
     ]
    },
    {
     "name": "stdout",
     "output_type": "stream",
     "text": [
      "torch.Size([16, 18, 15, 15])\n",
      "torch.Size([16, 18, 15, 15])\n",
      "torch.Size([16, 18, 15, 15])\n",
      "Avg Train Loss for Epoch : 7 is 0.14214723\n",
      "Avg Train accuracy for Epoch : 7 is 0.9552238805970149\n",
      "torch.Size([16, 18, 15, 15])\n",
      "torch.Size([16, 18, 15, 15])\n"
     ]
    },
    {
     "name": "stderr",
     "output_type": "stream",
     "text": [
      "  3%|▎         | 2/67 [00:00<00:03, 16.44it/s]"
     ]
    },
    {
     "name": "stdout",
     "output_type": "stream",
     "text": [
      "torch.Size([16, 18, 15, 15])\n",
      "torch.Size([16, 18, 15, 15])\n",
      "torch.Size([16, 18, 15, 15])\n",
      "torch.Size([16, 18, 15, 15])\n",
      "torch.Size([16, 18, 15, 15])\n",
      "Avg Validation accuracy for Epoch : 7 is 0.8482142857142857\n",
      "torch.Size([16, 18, 15, 15])\n",
      "torch.Size([16, 18, 15, 15])\n",
      "torch.Size([16, 18, 15, 15])\n"
     ]
    },
    {
     "name": "stderr",
     "output_type": "stream",
     "text": [
      "  9%|▉         | 6/67 [00:00<00:03, 16.50it/s]"
     ]
    },
    {
     "name": "stdout",
     "output_type": "stream",
     "text": [
      "torch.Size([16, 18, 15, 15])\n",
      "torch.Size([16, 18, 15, 15])\n",
      "torch.Size([16, 18, 15, 15])\n",
      "torch.Size([16, 18, 15, 15])\n"
     ]
    },
    {
     "name": "stderr",
     "output_type": "stream",
     "text": [
      " 15%|█▍        | 10/67 [00:00<00:03, 16.07it/s]"
     ]
    },
    {
     "name": "stdout",
     "output_type": "stream",
     "text": [
      "torch.Size([16, 18, 15, 15])\n",
      "torch.Size([16, 18, 15, 15])\n",
      "torch.Size([16, 18, 15, 15])\n",
      "torch.Size([16, 18, 15, 15])\n"
     ]
    },
    {
     "name": "stderr",
     "output_type": "stream",
     "text": [
      " 21%|██        | 14/67 [00:00<00:03, 16.69it/s]"
     ]
    },
    {
     "name": "stdout",
     "output_type": "stream",
     "text": [
      "torch.Size([16, 18, 15, 15])\n",
      "torch.Size([16, 18, 15, 15])\n",
      "torch.Size([16, 18, 15, 15])\n",
      "torch.Size([16, 18, 15, 15])\n"
     ]
    },
    {
     "name": "stderr",
     "output_type": "stream",
     "text": [
      " 27%|██▋       | 18/67 [00:01<00:02, 16.35it/s]"
     ]
    },
    {
     "name": "stdout",
     "output_type": "stream",
     "text": [
      "torch.Size([16, 18, 15, 15])\n",
      "torch.Size([16, 18, 15, 15])\n",
      "torch.Size([16, 18, 15, 15])\n",
      "torch.Size([16, 18, 15, 15])\n"
     ]
    },
    {
     "name": "stderr",
     "output_type": "stream",
     "text": [
      " 33%|███▎      | 22/67 [00:01<00:02, 16.35it/s]"
     ]
    },
    {
     "name": "stdout",
     "output_type": "stream",
     "text": [
      "torch.Size([16, 18, 15, 15])\n",
      "torch.Size([16, 18, 15, 15])\n",
      "torch.Size([16, 18, 15, 15])\n",
      "torch.Size([16, 18, 15, 15])\n"
     ]
    },
    {
     "name": "stderr",
     "output_type": "stream",
     "text": [
      " 39%|███▉      | 26/67 [00:01<00:02, 16.65it/s]"
     ]
    },
    {
     "name": "stdout",
     "output_type": "stream",
     "text": [
      "torch.Size([16, 18, 15, 15])\n",
      "torch.Size([16, 18, 15, 15])\n",
      "torch.Size([16, 18, 15, 15])\n",
      "torch.Size([16, 18, 15, 15])\n"
     ]
    },
    {
     "name": "stderr",
     "output_type": "stream",
     "text": [
      " 45%|████▍     | 30/67 [00:01<00:02, 17.23it/s]"
     ]
    },
    {
     "name": "stdout",
     "output_type": "stream",
     "text": [
      "torch.Size([16, 18, 15, 15])\n",
      "torch.Size([16, 18, 15, 15])\n",
      "torch.Size([16, 18, 15, 15])\n",
      "torch.Size([16, 18, 15, 15])\n"
     ]
    },
    {
     "name": "stderr",
     "output_type": "stream",
     "text": [
      " 51%|█████     | 34/67 [00:02<00:01, 16.87it/s]"
     ]
    },
    {
     "name": "stdout",
     "output_type": "stream",
     "text": [
      "torch.Size([16, 18, 15, 15])\n",
      "torch.Size([16, 18, 15, 15])\n",
      "torch.Size([16, 18, 15, 15])\n",
      "torch.Size([16, 18, 15, 15])\n"
     ]
    },
    {
     "name": "stderr",
     "output_type": "stream",
     "text": [
      " 57%|█████▋    | 38/67 [00:02<00:01, 16.32it/s]"
     ]
    },
    {
     "name": "stdout",
     "output_type": "stream",
     "text": [
      "torch.Size([16, 18, 15, 15])\n",
      "torch.Size([16, 18, 15, 15])\n",
      "torch.Size([16, 18, 15, 15])\n",
      "torch.Size([16, 18, 15, 15])\n"
     ]
    },
    {
     "name": "stderr",
     "output_type": "stream",
     "text": [
      " 63%|██████▎   | 42/67 [00:02<00:01, 16.52it/s]"
     ]
    },
    {
     "name": "stdout",
     "output_type": "stream",
     "text": [
      "torch.Size([16, 18, 15, 15])\n",
      "torch.Size([16, 18, 15, 15])\n",
      "torch.Size([16, 18, 15, 15])\n",
      "torch.Size([16, 18, 15, 15])\n"
     ]
    },
    {
     "name": "stderr",
     "output_type": "stream",
     "text": [
      " 69%|██████▊   | 46/67 [00:02<00:01, 17.28it/s]"
     ]
    },
    {
     "name": "stdout",
     "output_type": "stream",
     "text": [
      "torch.Size([16, 18, 15, 15])\n",
      "torch.Size([16, 18, 15, 15])\n",
      "torch.Size([16, 18, 15, 15])\n",
      "torch.Size([16, 18, 15, 15])\n"
     ]
    },
    {
     "name": "stderr",
     "output_type": "stream",
     "text": [
      " 75%|███████▍  | 50/67 [00:03<00:00, 17.05it/s]"
     ]
    },
    {
     "name": "stdout",
     "output_type": "stream",
     "text": [
      "torch.Size([16, 18, 15, 15])\n",
      "torch.Size([16, 18, 15, 15])\n",
      "torch.Size([16, 18, 15, 15])\n",
      "torch.Size([16, 18, 15, 15])\n"
     ]
    },
    {
     "name": "stderr",
     "output_type": "stream",
     "text": [
      " 81%|████████  | 54/67 [00:03<00:00, 17.11it/s]"
     ]
    },
    {
     "name": "stdout",
     "output_type": "stream",
     "text": [
      "torch.Size([16, 18, 15, 15])\n",
      "torch.Size([16, 18, 15, 15])\n",
      "torch.Size([16, 18, 15, 15])\n",
      "torch.Size([16, 18, 15, 15])\n"
     ]
    },
    {
     "name": "stderr",
     "output_type": "stream",
     "text": [
      " 87%|████████▋ | 58/67 [00:03<00:00, 16.96it/s]"
     ]
    },
    {
     "name": "stdout",
     "output_type": "stream",
     "text": [
      "torch.Size([16, 18, 15, 15])\n",
      "torch.Size([16, 18, 15, 15])\n",
      "torch.Size([16, 18, 15, 15])\n",
      "torch.Size([16, 18, 15, 15])\n"
     ]
    },
    {
     "name": "stderr",
     "output_type": "stream",
     "text": [
      " 94%|█████████▍| 63/67 [00:03<00:00, 18.18it/s]"
     ]
    },
    {
     "name": "stdout",
     "output_type": "stream",
     "text": [
      "torch.Size([16, 18, 15, 15])\n",
      "torch.Size([16, 18, 15, 15])\n",
      "torch.Size([16, 18, 15, 15])\n",
      "torch.Size([16, 18, 15, 15])\n"
     ]
    },
    {
     "name": "stderr",
     "output_type": "stream",
     "text": [
      "\r",
      " 97%|█████████▋| 65/67 [00:03<00:00, 17.90it/s]"
     ]
    },
    {
     "name": "stdout",
     "output_type": "stream",
     "text": [
      "torch.Size([16, 18, 15, 15])\n",
      "torch.Size([16, 18, 15, 15])\n",
      "torch.Size([16, 18, 15, 15])\n",
      "torch.Size([16, 18, 15, 15])\n"
     ]
    },
    {
     "name": "stderr",
     "output_type": "stream",
     "text": [
      "100%|██████████| 67/67 [00:03<00:00, 17.17it/s]\n",
      "  0%|          | 0/67 [00:00<?, ?it/s]"
     ]
    },
    {
     "name": "stdout",
     "output_type": "stream",
     "text": [
      "Avg Train Loss for Epoch : 8 is 0.061222218\n",
      "Avg Train accuracy for Epoch : 8 is 0.9785447761194029\n",
      "torch.Size([16, 18, 15, 15])\n",
      "torch.Size([16, 18, 15, 15])\n",
      "torch.Size([16, 18, 15, 15])\n",
      "torch.Size([16, 18, 15, 15])\n",
      "torch.Size([16, 18, 15, 15])\n",
      "torch.Size([16, 18, 15, 15])\n",
      "torch.Size([16, 18, 15, 15])\n",
      "Avg Validation accuracy for Epoch : 8 is 0.9017857142857143\n",
      "torch.Size([16, 18, 15, 15])\n"
     ]
    },
    {
     "name": "stderr",
     "output_type": "stream",
     "text": [
      "  6%|▌         | 4/67 [00:00<00:04, 12.82it/s]"
     ]
    },
    {
     "name": "stdout",
     "output_type": "stream",
     "text": [
      "torch.Size([16, 18, 15, 15])\n",
      "torch.Size([16, 18, 15, 15])\n",
      "torch.Size([16, 18, 15, 15])\n",
      "torch.Size([16, 18, 15, 15])\n"
     ]
    },
    {
     "name": "stderr",
     "output_type": "stream",
     "text": [
      " 12%|█▏        | 8/67 [00:00<00:04, 14.43it/s]"
     ]
    },
    {
     "name": "stdout",
     "output_type": "stream",
     "text": [
      "torch.Size([16, 18, 15, 15])\n",
      "torch.Size([16, 18, 15, 15])\n",
      "torch.Size([16, 18, 15, 15])\n",
      "torch.Size([16, 18, 15, 15])\n"
     ]
    },
    {
     "name": "stderr",
     "output_type": "stream",
     "text": [
      " 18%|█▊        | 12/67 [00:00<00:03, 14.02it/s]"
     ]
    },
    {
     "name": "stdout",
     "output_type": "stream",
     "text": [
      "torch.Size([16, 18, 15, 15])\n",
      "torch.Size([16, 18, 15, 15])\n",
      "torch.Size([16, 18, 15, 15])\n"
     ]
    },
    {
     "name": "stderr",
     "output_type": "stream",
     "text": [
      "\r",
      " 21%|██        | 14/67 [00:00<00:03, 14.90it/s]"
     ]
    },
    {
     "name": "stdout",
     "output_type": "stream",
     "text": [
      "torch.Size([16, 18, 15, 15])\n",
      "torch.Size([16, 18, 15, 15])\n",
      "torch.Size([16, 18, 15, 15])\n",
      "torch.Size([16, 18, 15, 15])\n"
     ]
    },
    {
     "name": "stderr",
     "output_type": "stream",
     "text": [
      " 27%|██▋       | 18/67 [00:01<00:03, 14.68it/s]"
     ]
    },
    {
     "name": "stdout",
     "output_type": "stream",
     "text": [
      "torch.Size([16, 18, 15, 15])\n",
      "torch.Size([16, 18, 15, 15])\n",
      "torch.Size([16, 18, 15, 15])\n"
     ]
    },
    {
     "name": "stderr",
     "output_type": "stream",
     "text": [
      " 33%|███▎      | 22/67 [00:01<00:03, 14.71it/s]"
     ]
    },
    {
     "name": "stdout",
     "output_type": "stream",
     "text": [
      "torch.Size([16, 18, 15, 15])\n",
      "torch.Size([16, 18, 15, 15])\n",
      "torch.Size([16, 18, 15, 15])\n",
      "torch.Size([16, 18, 15, 15])\n"
     ]
    },
    {
     "name": "stderr",
     "output_type": "stream",
     "text": [
      " 39%|███▉      | 26/67 [00:01<00:02, 14.61it/s]"
     ]
    },
    {
     "name": "stdout",
     "output_type": "stream",
     "text": [
      "torch.Size([16, 18, 15, 15])\n",
      "torch.Size([16, 18, 15, 15])\n",
      "torch.Size([16, 18, 15, 15])\n"
     ]
    },
    {
     "name": "stderr",
     "output_type": "stream",
     "text": [
      "\r",
      " 42%|████▏     | 28/67 [00:01<00:02, 14.78it/s]"
     ]
    },
    {
     "name": "stdout",
     "output_type": "stream",
     "text": [
      "torch.Size([16, 18, 15, 15])\n",
      "torch.Size([16, 18, 15, 15])\n",
      "torch.Size([16, 18, 15, 15])\n",
      "torch.Size([16, 18, 15, 15])\n"
     ]
    },
    {
     "name": "stderr",
     "output_type": "stream",
     "text": [
      " 48%|████▊     | 32/67 [00:02<00:02, 14.49it/s]"
     ]
    },
    {
     "name": "stdout",
     "output_type": "stream",
     "text": [
      "torch.Size([16, 18, 15, 15])\n",
      "torch.Size([16, 18, 15, 15])\n",
      "torch.Size([16, 18, 15, 15])\n"
     ]
    },
    {
     "name": "stderr",
     "output_type": "stream",
     "text": [
      " 54%|█████▎    | 36/67 [00:02<00:02, 14.47it/s]"
     ]
    },
    {
     "name": "stdout",
     "output_type": "stream",
     "text": [
      "torch.Size([16, 18, 15, 15])\n",
      "torch.Size([16, 18, 15, 15])\n",
      "torch.Size([16, 18, 15, 15])\n",
      "torch.Size([16, 18, 15, 15])\n"
     ]
    },
    {
     "name": "stderr",
     "output_type": "stream",
     "text": [
      "\r",
      " 57%|█████▋    | 38/67 [00:02<00:02, 13.92it/s]"
     ]
    },
    {
     "name": "stdout",
     "output_type": "stream",
     "text": [
      "torch.Size([16, 18, 15, 15])\n",
      "torch.Size([16, 18, 15, 15])\n",
      "torch.Size([16, 18, 15, 15])\n"
     ]
    },
    {
     "name": "stderr",
     "output_type": "stream",
     "text": [
      " 63%|██████▎   | 42/67 [00:02<00:01, 13.53it/s]"
     ]
    },
    {
     "name": "stdout",
     "output_type": "stream",
     "text": [
      "torch.Size([16, 18, 15, 15])\n",
      "torch.Size([16, 18, 15, 15])\n",
      "torch.Size([16, 18, 15, 15])\n"
     ]
    },
    {
     "name": "stderr",
     "output_type": "stream",
     "text": [
      " 69%|██████▊   | 46/67 [00:03<00:01, 13.50it/s]"
     ]
    },
    {
     "name": "stdout",
     "output_type": "stream",
     "text": [
      "torch.Size([16, 18, 15, 15])\n",
      "torch.Size([16, 18, 15, 15])\n",
      "torch.Size([16, 18, 15, 15])\n"
     ]
    },
    {
     "name": "stderr",
     "output_type": "stream",
     "text": [
      "\r",
      " 72%|███████▏  | 48/67 [00:03<00:01, 13.30it/s]"
     ]
    },
    {
     "name": "stdout",
     "output_type": "stream",
     "text": [
      "torch.Size([16, 18, 15, 15])\n",
      "torch.Size([16, 18, 15, 15])\n",
      "torch.Size([16, 18, 15, 15])\n"
     ]
    },
    {
     "name": "stderr",
     "output_type": "stream",
     "text": [
      " 78%|███████▊  | 52/67 [00:03<00:00, 15.46it/s]"
     ]
    },
    {
     "name": "stdout",
     "output_type": "stream",
     "text": [
      "torch.Size([16, 18, 15, 15])\n",
      "torch.Size([16, 18, 15, 15])\n",
      "torch.Size([16, 18, 15, 15])\n",
      "torch.Size([16, 18, 15, 15])\n"
     ]
    },
    {
     "name": "stderr",
     "output_type": "stream",
     "text": [
      " 84%|████████▎ | 56/67 [00:03<00:00, 15.12it/s]"
     ]
    },
    {
     "name": "stdout",
     "output_type": "stream",
     "text": [
      "torch.Size([16, 18, 15, 15])\n",
      "torch.Size([16, 18, 15, 15])\n",
      "torch.Size([16, 18, 15, 15])\n"
     ]
    },
    {
     "name": "stderr",
     "output_type": "stream",
     "text": [
      "\r",
      " 87%|████████▋ | 58/67 [00:04<00:00, 14.72it/s]"
     ]
    },
    {
     "name": "stdout",
     "output_type": "stream",
     "text": [
      "torch.Size([16, 18, 15, 15])\n",
      "torch.Size([16, 18, 15, 15])\n",
      "torch.Size([16, 18, 15, 15])\n"
     ]
    },
    {
     "name": "stderr",
     "output_type": "stream",
     "text": [
      " 93%|█████████▎| 62/67 [00:04<00:00, 14.55it/s]"
     ]
    },
    {
     "name": "stdout",
     "output_type": "stream",
     "text": [
      "torch.Size([16, 18, 15, 15])\n",
      "torch.Size([16, 18, 15, 15])\n",
      "torch.Size([16, 18, 15, 15])\n"
     ]
    },
    {
     "name": "stderr",
     "output_type": "stream",
     "text": [
      "\r",
      " 96%|█████████▌| 64/67 [00:04<00:00, 14.84it/s]"
     ]
    },
    {
     "name": "stdout",
     "output_type": "stream",
     "text": [
      "torch.Size([16, 18, 15, 15])\n",
      "torch.Size([16, 18, 15, 15])\n",
      "torch.Size([16, 18, 15, 15])\n",
      "torch.Size([16, 18, 15, 15])\n"
     ]
    },
    {
     "name": "stderr",
     "output_type": "stream",
     "text": [
      "100%|██████████| 67/67 [00:04<00:00, 14.32it/s]"
     ]
    },
    {
     "name": "stdout",
     "output_type": "stream",
     "text": [
      "torch.Size([16, 18, 15, 15])\n",
      "Avg Train Loss for Epoch : 9 is 0.0177246\n",
      "Avg Train accuracy for Epoch : 9 is 0.9916044776119403\n",
      "torch.Size([16, 18, 15, 15])\n",
      "torch.Size([16, 18, 15, 15])\n",
      "torch.Size([16, 18, 15, 15])\n",
      "torch.Size([16, 18, 15, 15])\n",
      "torch.Size([16, 18, 15, 15])\n",
      "torch.Size([16, 18, 15, 15])\n",
      "torch.Size([16, 18, 15, 15])\n",
      "Avg Validation accuracy for Epoch : 9 is 0.9196428571428571\n"
     ]
    },
    {
     "name": "stderr",
     "output_type": "stream",
     "text": [
      "\n"
     ]
    }
   ],
   "source": [
    "for i in range(10):\n",
    "    loss_avg = []\n",
    "    acc_avg = []\n",
    "    model.train()\n",
    "    for batch in tqdm(train_dl):\n",
    "        #print(batch[0])\n",
    "    \n",
    "        batch_dat = batch[0].permute(0, 3, 1, 2)\n",
    "    \n",
    "        # in your training loop:\n",
    "        optimizer.zero_grad()   # zero the gradient buffers\n",
    "        predict = model.forward(batch_dat)\n",
    "\n",
    "        \n",
    "        pred = np.argmax(predict.detach().numpy(), axis=1)\n",
    "\n",
    "        count = sum(sum([pred == batch[1].long().detach().numpy()]))\n",
    "     \n",
    "        \n",
    "        acc = count/len(pred)\n",
    "        acc_avg.append(acc)\n",
    "        loss = criterion(predict, batch[1].long())\n",
    "        \n",
    "    \n",
    "        loss_avg.append(loss.detach().cpu())\n",
    "        loss.backward()\n",
    "        \n",
    "        optimizer.step()  \n",
    "    \n",
    "\n",
    "    print('Avg Train Loss for Epoch : '+str(i)+\" is \"+str(np.mean(loss_avg)))\n",
    "    print('Avg Train accuracy for Epoch : '+str(i)+\" is \"+str(np.mean(acc_avg)))\n",
    "    ### Validation after each epoch \n",
    "    \n",
    "    model.eval()\n",
    "    val_acc = []\n",
    "    for val_batch in test_dl:\n",
    "        val_dat = val_batch[0].permute(0, 3, 1, 2)\n",
    "        with torch.no_grad():\n",
    "            predict = model.forward(val_dat)\n",
    "            pred = np.argmax(predict.detach().numpy(), axis=1)\n",
    "            count = sum(sum([pred == val_batch[1].long().detach().numpy()]))\n",
    "            acc = count/len(pred)\n",
    "            val_acc.append(acc)\n",
    "            \n",
    "    print('Avg Validation accuracy for Epoch : '+str(i)+\" is \"+str(np.mean(val_acc)))\n",
    "     "
   ]
  },
  {
   "cell_type": "markdown",
   "metadata": {},
   "source": [
    "### Evaluation model "
   ]
  },
  {
   "cell_type": "code",
   "execution_count": 24,
   "metadata": {},
   "outputs": [
    {
     "name": "stdout",
     "output_type": "stream",
     "text": [
      "torch.Size([1, 18, 15, 15])\n"
     ]
    },
    {
     "name": "stderr",
     "output_type": "stream",
     "text": [
      "/home/surbhi/anaconda3/envs/pytorch-env/lib/python3.5/site-packages/ipykernel_launcher.py:43: UserWarning: Implicit dimension choice for log_softmax has been deprecated. Change the call to include dim=X as an argument.\n"
     ]
    }
   ],
   "source": [
    "preds = model.forward(torch.Tensor(test['test_set_x'][25]).unsqueeze(0).permute(0, 3, 1, 2))"
   ]
  },
  {
   "cell_type": "code",
   "execution_count": 25,
   "metadata": {},
   "outputs": [],
   "source": [
    "pred = np.argmax(preds.detach().numpy(), axis=1)"
   ]
  },
  {
   "cell_type": "code",
   "execution_count": 26,
   "metadata": {},
   "outputs": [
    {
     "data": {
      "text/plain": [
       "array([4])"
      ]
     },
     "execution_count": 26,
     "metadata": {},
     "output_type": "execute_result"
    }
   ],
   "source": [
    "pred"
   ]
  },
  {
   "cell_type": "code",
   "execution_count": 19,
   "metadata": {},
   "outputs": [
    {
     "data": {
      "image/png": "[encoded data removed]",
      "text/plain": [
       "<Figure size 432x288 with 1 Axes>"
      ]
     },
     "metadata": {
      "needs_background": "light"
     },
     "output_type": "display_data"
    }
   ],
   "source": [
    "imgplot = plt.imshow(test['test_set_x'][25])"
   ]
  },
  {
   "cell_type": "code",
   "execution_count": 22,
   "metadata": {},
   "outputs": [
    {
     "name": "stderr",
     "output_type": "stream",
     "text": [
      "/home/surbhi/anaconda3/envs/pytorch-env/lib/python3.5/site-packages/torch/serialization.py:251: UserWarning: Couldn't retrieve source code for container of type Image_Classifier. It won't be checked for correctness upon loading.\n",
      "  \"type \" + obj.__name__ + \". It won't be checked \"\n"
     ]
    }
   ],
   "source": [
    "torch.save(model, \"model.pt\")"
   ]
  },
  {
   "cell_type": "code",
   "execution_count": null,
   "metadata": {},
   "outputs": [],
   "source": []
  },
  {
   "cell_type": "code",
   "execution_count": null,
   "metadata": {},
   "outputs": [],
   "source": []
  },
  {
   "cell_type": "code",
   "execution_count": null,
   "metadata": {},
   "outputs": [],
   "source": []
  }
 ],
 "metadata": {
  "kernelspec": {
   "display_name": "Python 3",
   "language": "python",
   "name": "python3"
  },
  "language_info": {
   "codemirror_mode": {
    "name": "ipython",
    "version": 3
   },
   "file_extension": ".py",
   "mimetype": "text/x-python",
   "name": "python",
   "nbconvert_exporter": "python",
   "pygments_lexer": "ipython3",
   "version": "3.5.0"
  }
 },
 "nbformat": 4,
 "nbformat_minor": 2
}
