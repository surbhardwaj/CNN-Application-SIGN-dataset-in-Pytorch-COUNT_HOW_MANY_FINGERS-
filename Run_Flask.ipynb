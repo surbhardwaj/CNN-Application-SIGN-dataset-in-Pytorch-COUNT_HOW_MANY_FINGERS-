{
 "cells": [
  {
   "cell_type": "markdown",
   "metadata": {},
   "source": [
    "### Running Classification Model ########"
   ]
  },
  {
   "cell_type": "code",
   "execution_count": 1,
   "metadata": {},
   "outputs": [
    {
     "name": "stderr",
     "output_type": "stream",
     "text": [
      "  0%|          | 0/67 [00:00<?, ?it/s]/home/surbhi/Desktop/Vision_Code/Classification/Image_Classifier.py:69: UserWarning: Implicit dimension choice for log_softmax has been deprecated. Change the call to include dim=X as an argument.\n",
      "  return F.log_softmax(out)\n",
      "  3%|▎         | 2/67 [00:00<00:03, 16.83it/s]"
     ]
    },
    {
     "name": "stdout",
     "output_type": "stream",
     "text": [
      "****** Training Model ****************\n"
     ]
    },
    {
     "name": "stderr",
     "output_type": "stream",
     "text": [
      "100%|██████████| 67/67 [00:03<00:00, 19.65it/s]\n",
      "  3%|▎         | 2/67 [00:00<00:03, 19.36it/s]"
     ]
    },
    {
     "name": "stdout",
     "output_type": "stream",
     "text": [
      "Avg Train Loss for Epoch : 0 is 6.8656993\n",
      "Avg Train accuracy for Epoch : 0 is 0.36100746268656714\n",
      "Avg Validation accuracy for Epoch : 0 is 0.5535714285714286\n"
     ]
    },
    {
     "name": "stderr",
     "output_type": "stream",
     "text": [
      "100%|██████████| 67/67 [00:03<00:00, 20.13it/s]\n",
      "  0%|          | 0/67 [00:00<?, ?it/s]"
     ]
    },
    {
     "name": "stdout",
     "output_type": "stream",
     "text": [
      "Avg Train Loss for Epoch : 1 is 0.76446503\n",
      "Avg Train accuracy for Epoch : 1 is 0.7313432835820896\n",
      "Avg Validation accuracy for Epoch : 1 is 0.8125\n"
     ]
    },
    {
     "name": "stderr",
     "output_type": "stream",
     "text": [
      "100%|██████████| 67/67 [00:03<00:00, 20.36it/s]\n",
      "  3%|▎         | 2/67 [00:00<00:03, 18.81it/s]"
     ]
    },
    {
     "name": "stdout",
     "output_type": "stream",
     "text": [
      "Avg Train Loss for Epoch : 2 is 0.3338078\n",
      "Avg Train accuracy for Epoch : 2 is 0.8861940298507462\n",
      "Avg Validation accuracy for Epoch : 2 is 0.8125\n"
     ]
    },
    {
     "name": "stderr",
     "output_type": "stream",
     "text": [
      "100%|██████████| 67/67 [00:03<00:00, 20.61it/s]\n",
      "  4%|▍         | 3/67 [00:00<00:03, 21.20it/s]"
     ]
    },
    {
     "name": "stdout",
     "output_type": "stream",
     "text": [
      "Avg Train Loss for Epoch : 3 is 0.20483817\n",
      "Avg Train accuracy for Epoch : 3 is 0.9300373134328358\n",
      "Avg Validation accuracy for Epoch : 3 is 0.8214285714285714\n"
     ]
    },
    {
     "name": "stderr",
     "output_type": "stream",
     "text": [
      "100%|██████████| 67/67 [00:03<00:00, 20.94it/s]\n",
      "  3%|▎         | 2/67 [00:00<00:03, 19.91it/s]"
     ]
    },
    {
     "name": "stdout",
     "output_type": "stream",
     "text": [
      "Avg Train Loss for Epoch : 4 is 0.121461324\n",
      "Avg Train accuracy for Epoch : 4 is 0.960820895522388\n",
      "Avg Validation accuracy for Epoch : 4 is 0.8660714285714286\n"
     ]
    },
    {
     "name": "stderr",
     "output_type": "stream",
     "text": [
      "100%|██████████| 67/67 [00:03<00:00, 20.50it/s]\n",
      "  4%|▍         | 3/67 [00:00<00:02, 21.53it/s]"
     ]
    },
    {
     "name": "stdout",
     "output_type": "stream",
     "text": [
      "Avg Train Loss for Epoch : 5 is 0.07784355\n",
      "Avg Train accuracy for Epoch : 5 is 0.9785447761194029\n",
      "Avg Validation accuracy for Epoch : 5 is 0.8571428571428571\n"
     ]
    },
    {
     "name": "stderr",
     "output_type": "stream",
     "text": [
      "100%|██████████| 67/67 [00:03<00:00, 20.46it/s]\n",
      "  3%|▎         | 2/67 [00:00<00:03, 19.79it/s]"
     ]
    },
    {
     "name": "stdout",
     "output_type": "stream",
     "text": [
      "Avg Train Loss for Epoch : 6 is 0.059200834\n",
      "Avg Train accuracy for Epoch : 6 is 0.9794776119402985\n",
      "Avg Validation accuracy for Epoch : 6 is 0.8035714285714286\n"
     ]
    },
    {
     "name": "stderr",
     "output_type": "stream",
     "text": [
      "100%|██████████| 67/67 [00:03<00:00, 20.29it/s]\n",
      "  3%|▎         | 2/67 [00:00<00:03, 19.61it/s]"
     ]
    },
    {
     "name": "stdout",
     "output_type": "stream",
     "text": [
      "Avg Train Loss for Epoch : 7 is 0.14214723\n",
      "Avg Train accuracy for Epoch : 7 is 0.9552238805970149\n",
      "Avg Validation accuracy for Epoch : 7 is 0.8482142857142857\n"
     ]
    },
    {
     "name": "stderr",
     "output_type": "stream",
     "text": [
      "100%|██████████| 67/67 [00:03<00:00, 20.36it/s]\n",
      "  3%|▎         | 2/67 [00:00<00:03, 19.33it/s]"
     ]
    },
    {
     "name": "stdout",
     "output_type": "stream",
     "text": [
      "Avg Train Loss for Epoch : 8 is 0.061222218\n",
      "Avg Train accuracy for Epoch : 8 is 0.9785447761194029\n",
      "Avg Validation accuracy for Epoch : 8 is 0.9017857142857143\n"
     ]
    },
    {
     "name": "stderr",
     "output_type": "stream",
     "text": [
      "100%|██████████| 67/67 [00:03<00:00, 20.24it/s]\n"
     ]
    },
    {
     "name": "stdout",
     "output_type": "stream",
     "text": [
      "Avg Train Loss for Epoch : 9 is 0.0177246\n",
      "Avg Train accuracy for Epoch : 9 is 0.9916044776119403\n",
      "Avg Validation accuracy for Epoch : 9 is 0.9196428571428571\n"
     ]
    }
   ],
   "source": [
    "%run Image_Classifier.py"
   ]
  },
  {
   "cell_type": "markdown",
   "metadata": {},
   "source": [
    "#### Running Flask_api for prediction"
   ]
  },
  {
   "cell_type": "code",
   "execution_count": null,
   "metadata": {},
   "outputs": [
    {
     "name": "stdout",
     "output_type": "stream",
     "text": [
      " * Serving Flask app \"app\" (lazy loading)\n",
      " * Environment: production\n",
      "   WARNING: Do not use the development server in a production environment.\n",
      "   Use a production WSGI server instead.\n",
      " * Debug mode: on\n"
     ]
    },
    {
     "name": "stderr",
     "output_type": "stream",
     "text": [
      " * Running on http://127.0.0.1:5000/ (Press CTRL+C to quit)\n",
      " * Restarting with stat\n"
     ]
    }
   ],
   "source": [
    "%run app.py"
   ]
  },
  {
   "cell_type": "code",
   "execution_count": null,
   "metadata": {},
   "outputs": [],
   "source": []
  },
  {
   "cell_type": "code",
   "execution_count": null,
   "metadata": {},
   "outputs": [],
   "source": []
  },
  {
   "cell_type": "code",
   "execution_count": null,
   "metadata": {},
   "outputs": [],
   "source": []
  },
  {
   "cell_type": "code",
   "execution_count": null,
   "metadata": {},
   "outputs": [],
   "source": []
  }
 ],
 "metadata": {
  "kernelspec": {
   "display_name": "Python 3",
   "language": "python",
   "name": "python3"
  },
  "language_info": {
   "codemirror_mode": {
    "name": "ipython",
    "version": 3
   },
   "file_extension": ".py",
   "mimetype": "text/x-python",
   "name": "python",
   "nbconvert_exporter": "python",
   "pygments_lexer": "ipython3",
   "version": "3.5.0"
  }
 },
 "nbformat": 4,
 "nbformat_minor": 2
}
